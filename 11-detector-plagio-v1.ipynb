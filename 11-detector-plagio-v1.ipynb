{
 "cells": [
  {
   "cell_type": "markdown",
   "id": "4c574b07",
   "metadata": {},
   "source": [
    "# Detector de plágio em composição musical"
   ]
  },
  {
   "cell_type": "markdown",
   "id": "651caa3e",
   "metadata": {},
   "source": [
    "### Referências\n",
    "\n",
    "https://www.kaggle.com/code/eslamreda0101/plagirism-checker-using-scikit-learn-ml\n",
    "\n",
    "https://www.kaggle.com/code/fanbyprinciple/detecting-plagiarism-in-text"
   ]
  },
  {
   "cell_type": "code",
   "execution_count": 23,
   "id": "636c7d01",
   "metadata": {},
   "outputs": [],
   "source": [
    "import os\n",
    "import glob\n",
    "from numpy import vectorize\n",
    "from sklearn.feature_extraction.text import TfidfVectorizer\n",
    "from sklearn.metrics.pairwise import cosine_similarity"
   ]
  },
  {
   "cell_type": "markdown",
   "id": "64afceae",
   "metadata": {},
   "source": [
    "## Leitura das letras musicais"
   ]
  },
  {
   "cell_type": "code",
   "execution_count": 14,
   "id": "963193c7",
   "metadata": {},
   "outputs": [],
   "source": [
    "dir_raiz = \"musicas\""
   ]
  },
  {
   "cell_type": "code",
   "execution_count": 24,
   "id": "b71a9556",
   "metadata": {},
   "outputs": [
    {
     "data": {
      "text/plain": [
       "['wesley-safadao', 'rita-lee', 'pitty', 'mano-walter']"
      ]
     },
     "execution_count": 24,
     "metadata": {},
     "output_type": "execute_result"
    }
   ],
   "source": [
    "bandas = os.listdir(dir_raiz)\n",
    "bandas"
   ]
  },
  {
   "cell_type": "code",
   "execution_count": 60,
   "id": "966d9ee9",
   "metadata": {},
   "outputs": [],
   "source": [
    "sample_files = glob.glob(dir_raiz + \"/*/*.txt\")\n",
    "sample_contents = [open(File).read() for File in sample_files]"
   ]
  },
  {
   "cell_type": "code",
   "execution_count": 61,
   "id": "27610252",
   "metadata": {},
   "outputs": [],
   "source": [
    "%%script true\n",
    "qtd_limite = 10\n",
    "sample_files = sample_files[:qtd_limite]\n",
    "len(sample_files)"
   ]
  },
  {
   "cell_type": "code",
   "execution_count": 62,
   "id": "d9c2ec88",
   "metadata": {},
   "outputs": [
    {
     "data": {
      "text/plain": [
       "['musicas/wesley-safadao/989577.txt',\n",
       " 'musicas/wesley-safadao/depende-part-dj-guga-e-ze-felipe.txt',\n",
       " 'musicas/wesley-safadao/parado-no-bailao.txt',\n",
       " 'musicas/wesley-safadao/vou-dar-virote.txt',\n",
       " 'musicas/wesley-safadao/saudade-nivel-hard.txt',\n",
       " 'musicas/wesley-safadao/vamos-falar-de-amor-part-mara-pavanelly.txt',\n",
       " 'musicas/wesley-safadao/vai-la.txt',\n",
       " 'musicas/wesley-safadao/1837730.txt',\n",
       " 'musicas/wesley-safadao/o-cara-errado.txt',\n",
       " 'musicas/wesley-safadao/veja-so-no-que-deu.txt']"
      ]
     },
     "execution_count": 62,
     "metadata": {},
     "output_type": "execute_result"
    }
   ],
   "source": [
    "sample_files[:10]"
   ]
  },
  {
   "cell_type": "markdown",
   "id": "d9989a05",
   "metadata": {},
   "source": [
    "## Vetorização dos textos"
   ]
  },
  {
   "cell_type": "code",
   "execution_count": 63,
   "id": "4159bb5a",
   "metadata": {},
   "outputs": [],
   "source": [
    "vectorize = lambda text: TfidfVectorizer().fit_transform(text).toarray()"
   ]
  },
  {
   "cell_type": "code",
   "execution_count": 64,
   "id": "10a03fce",
   "metadata": {},
   "outputs": [],
   "source": [
    "similarity = lambda doc1, doc2: cosine_similarity([doc1, doc2])"
   ]
  },
  {
   "cell_type": "code",
   "execution_count": 65,
   "id": "544cc317",
   "metadata": {},
   "outputs": [],
   "source": [
    "vectors = vectorize(sample_contents)"
   ]
  },
  {
   "cell_type": "code",
   "execution_count": 66,
   "id": "b2ccb80e",
   "metadata": {},
   "outputs": [],
   "source": [
    "s_vectors = list(zip(sample_files, vectors))"
   ]
  },
  {
   "cell_type": "code",
   "execution_count": 67,
   "id": "32a24410",
   "metadata": {},
   "outputs": [
    {
     "data": {
      "text/plain": [
       "[('musicas/wesley-safadao/989577.txt', array([0., 0., 0., ..., 0., 0., 0.])),\n",
       " ('musicas/wesley-safadao/depende-part-dj-guga-e-ze-felipe.txt',\n",
       "  array([0.        , 0.        , 0.        , ..., 0.        , 0.        ,\n",
       "         0.13566726]))]"
      ]
     },
     "execution_count": 67,
     "metadata": {},
     "output_type": "execute_result"
    }
   ],
   "source": [
    "s_vectors[:2]"
   ]
  },
  {
   "cell_type": "markdown",
   "id": "a20dde31",
   "metadata": {},
   "source": [
    "## Comparações entre as letras"
   ]
  },
  {
   "cell_type": "code",
   "execution_count": 70,
   "id": "9fe5cb2e",
   "metadata": {},
   "outputs": [
    {
     "name": "stdout",
     "output_type": "stream",
     "text": [
      "CPU times: user 28min 15s, sys: 11.5 s, total: 28min 27s\n",
      "Wall time: 7min 6s\n"
     ]
    }
   ],
   "source": [
    "%%time\n",
    "results = set()\n",
    "for sample_a, text_vector_a in s_vectors:\n",
    "    for sample_b, text_vector_b in s_vectors:\n",
    "        if sample_a == sample_b:\n",
    "            continue\n",
    "        sim_score = similarity(text_vector_a, text_vector_b)[0][1]\n",
    "        sample_pair = sorted((sample_a, sample_b))\n",
    "        score = sample_pair[0], sample_pair[1], sim_score\n",
    "        results.add(score)"
   ]
  },
  {
   "cell_type": "code",
   "execution_count": 173,
   "id": "ada52485",
   "metadata": {},
   "outputs": [],
   "source": [
    "import pandas as pd\n",
    "#pd.set_option('display.width', 0)\n",
    "pd.set_option('max_colwidth', None)"
   ]
  },
  {
   "cell_type": "code",
   "execution_count": 174,
   "id": "886b65d7",
   "metadata": {},
   "outputs": [
    {
     "data": {
      "text/html": [
       "<div>\n",
       "<style scoped>\n",
       "    .dataframe tbody tr th:only-of-type {\n",
       "        vertical-align: middle;\n",
       "    }\n",
       "\n",
       "    .dataframe tbody tr th {\n",
       "        vertical-align: top;\n",
       "    }\n",
       "\n",
       "    .dataframe thead th {\n",
       "        text-align: right;\n",
       "    }\n",
       "</style>\n",
       "<table border=\"1\" class=\"dataframe\">\n",
       "  <thead>\n",
       "    <tr style=\"text-align: right;\">\n",
       "      <th></th>\n",
       "      <th>Música 1</th>\n",
       "      <th>Música 2</th>\n",
       "      <th>Similaridade</th>\n",
       "    </tr>\n",
       "  </thead>\n",
       "  <tbody>\n",
       "    <tr>\n",
       "      <th>490847</th>\n",
       "      <td>musicas/mano-walter/nao-deixo-nao.txt</td>\n",
       "      <td>musicas/wesley-safadao/nao-deixo-nao.txt</td>\n",
       "      <td>1.000</td>\n",
       "    </tr>\n",
       "    <tr>\n",
       "      <th>300294</th>\n",
       "      <td>musicas/wesley-safadao/2003669.txt</td>\n",
       "      <td>musicas/wesley-safadao/ei-olha-o-som-empinadinha.txt</td>\n",
       "      <td>0.999</td>\n",
       "    </tr>\n",
       "    <tr>\n",
       "      <th>545155</th>\n",
       "      <td>musicas/pitty/de-um-role-ao-vivo.txt</td>\n",
       "      <td>musicas/pitty/de-um-role.txt</td>\n",
       "      <td>0.998</td>\n",
       "    </tr>\n",
       "    <tr>\n",
       "      <th>421143</th>\n",
       "      <td>musicas/mano-walter/eu-quero-correr-boi.txt</td>\n",
       "      <td>musicas/wesley-safadao/to-nem-ai-eu-quero-correr-boi.txt</td>\n",
       "      <td>0.997</td>\n",
       "    </tr>\n",
       "    <tr>\n",
       "      <th>695070</th>\n",
       "      <td>musicas/mano-walter/1892407.txt</td>\n",
       "      <td>musicas/wesley-safadao/1710268.txt</td>\n",
       "      <td>0.996</td>\n",
       "    </tr>\n",
       "    <tr>\n",
       "      <th>...</th>\n",
       "      <td>...</td>\n",
       "      <td>...</td>\n",
       "      <td>...</td>\n",
       "    </tr>\n",
       "    <tr>\n",
       "      <th>211376</th>\n",
       "      <td>musicas/pitty/1144082.txt</td>\n",
       "      <td>musicas/wesley-safadao/eu-tambem-sei-machucar.txt</td>\n",
       "      <td>0.000</td>\n",
       "    </tr>\n",
       "    <tr>\n",
       "      <th>652399</th>\n",
       "      <td>musicas/pitty/la-javanaise.txt</td>\n",
       "      <td>musicas/wesley-safadao/1826413.txt</td>\n",
       "      <td>0.000</td>\n",
       "    </tr>\n",
       "    <tr>\n",
       "      <th>652390</th>\n",
       "      <td>musicas/rita-lee/1629282.txt</td>\n",
       "      <td>musicas/wesley-safadao/dez-anos-no-seu-coracao.txt</td>\n",
       "      <td>0.000</td>\n",
       "    </tr>\n",
       "    <tr>\n",
       "      <th>211382</th>\n",
       "      <td>musicas/rita-lee/197337.txt</td>\n",
       "      <td>musicas/wesley-safadao/1517252.txt</td>\n",
       "      <td>0.000</td>\n",
       "    </tr>\n",
       "    <tr>\n",
       "      <th>659526</th>\n",
       "      <td>musicas/mano-walter/ta-faltando-um-amor-pra-mim.txt</td>\n",
       "      <td>musicas/rita-lee/tutti-fuditti.txt</td>\n",
       "      <td>0.000</td>\n",
       "    </tr>\n",
       "  </tbody>\n",
       "</table>\n",
       "<p>1192740 rows × 3 columns</p>\n",
       "</div>"
      ],
      "text/plain": [
       "                                                   Música 1  \\\n",
       "490847                musicas/mano-walter/nao-deixo-nao.txt   \n",
       "300294                   musicas/wesley-safadao/2003669.txt   \n",
       "545155                 musicas/pitty/de-um-role-ao-vivo.txt   \n",
       "421143          musicas/mano-walter/eu-quero-correr-boi.txt   \n",
       "695070                      musicas/mano-walter/1892407.txt   \n",
       "...                                                     ...   \n",
       "211376                            musicas/pitty/1144082.txt   \n",
       "652399                       musicas/pitty/la-javanaise.txt   \n",
       "652390                         musicas/rita-lee/1629282.txt   \n",
       "211382                          musicas/rita-lee/197337.txt   \n",
       "659526  musicas/mano-walter/ta-faltando-um-amor-pra-mim.txt   \n",
       "\n",
       "                                                        Música 2  Similaridade  \n",
       "490847                  musicas/wesley-safadao/nao-deixo-nao.txt         1.000  \n",
       "300294      musicas/wesley-safadao/ei-olha-o-som-empinadinha.txt         0.999  \n",
       "545155                              musicas/pitty/de-um-role.txt         0.998  \n",
       "421143  musicas/wesley-safadao/to-nem-ai-eu-quero-correr-boi.txt         0.997  \n",
       "695070                        musicas/wesley-safadao/1710268.txt         0.996  \n",
       "...                                                          ...           ...  \n",
       "211376         musicas/wesley-safadao/eu-tambem-sei-machucar.txt         0.000  \n",
       "652399                        musicas/wesley-safadao/1826413.txt         0.000  \n",
       "652390        musicas/wesley-safadao/dez-anos-no-seu-coracao.txt         0.000  \n",
       "211382                        musicas/wesley-safadao/1517252.txt         0.000  \n",
       "659526                        musicas/rita-lee/tutti-fuditti.txt         0.000  \n",
       "\n",
       "[1192740 rows x 3 columns]"
      ]
     },
     "execution_count": 174,
     "metadata": {},
     "output_type": "execute_result"
    }
   ],
   "source": [
    "df = pd.DataFrame(results, columns=[\"Música 1\", \"Música 2\", \"Similaridade\"]).round(3)\n",
    "df.sort_values(\"Similaridade\", ascending=False)"
   ]
  },
  {
   "cell_type": "code",
   "execution_count": 186,
   "id": "cfc8e40c",
   "metadata": {},
   "outputs": [
    {
     "data": {
      "text/html": [
       "<div>\n",
       "<style scoped>\n",
       "    .dataframe tbody tr th:only-of-type {\n",
       "        vertical-align: middle;\n",
       "    }\n",
       "\n",
       "    .dataframe tbody tr th {\n",
       "        vertical-align: top;\n",
       "    }\n",
       "\n",
       "    .dataframe thead th {\n",
       "        text-align: right;\n",
       "    }\n",
       "</style>\n",
       "<table border=\"1\" class=\"dataframe\">\n",
       "  <thead>\n",
       "    <tr style=\"text-align: right;\">\n",
       "      <th></th>\n",
       "      <th>Música 1</th>\n",
       "      <th>Música 2</th>\n",
       "      <th>Similaridade</th>\n",
       "    </tr>\n",
       "  </thead>\n",
       "  <tbody>\n",
       "    <tr>\n",
       "      <th>417005</th>\n",
       "      <td>musicas/pitty/1690404.txt</td>\n",
       "      <td>musicas/rita-lee/94.txt</td>\n",
       "      <td>0.949</td>\n",
       "    </tr>\n",
       "    <tr>\n",
       "      <th>833982</th>\n",
       "      <td>musicas/wesley-safadao/1106034.txt</td>\n",
       "      <td>musicas/wesley-safadao/beber-e-paquerar-part-rai-saia-rodada.txt</td>\n",
       "      <td>0.947</td>\n",
       "    </tr>\n",
       "    <tr>\n",
       "      <th>488103</th>\n",
       "      <td>musicas/wesley-safadao/despedida-part-ze-neto-e-cristiano.txt</td>\n",
       "      <td>musicas/wesley-safadao/despedida.txt</td>\n",
       "      <td>0.937</td>\n",
       "    </tr>\n",
       "    <tr>\n",
       "      <th>1011840</th>\n",
       "      <td>musicas/mano-walter/1265791.txt</td>\n",
       "      <td>musicas/wesley-safadao/1369879.txt</td>\n",
       "      <td>0.927</td>\n",
       "    </tr>\n",
       "    <tr>\n",
       "      <th>65078</th>\n",
       "      <td>musicas/mano-walter/agora-vai-ser-pra-valer.txt</td>\n",
       "      <td>musicas/wesley-safadao/agora-e-pra-valer.txt</td>\n",
       "      <td>0.923</td>\n",
       "    </tr>\n",
       "    <tr>\n",
       "      <th>106431</th>\n",
       "      <td>musicas/pitty/1201441.txt</td>\n",
       "      <td>musicas/pitty/250101.txt</td>\n",
       "      <td>0.923</td>\n",
       "    </tr>\n",
       "    <tr>\n",
       "      <th>1133036</th>\n",
       "      <td>musicas/pitty/redimir.txt</td>\n",
       "      <td>musicas/pitty/redmir.txt</td>\n",
       "      <td>0.916</td>\n",
       "    </tr>\n",
       "    <tr>\n",
       "      <th>113178</th>\n",
       "      <td>musicas/mano-walter/1892399.txt</td>\n",
       "      <td>musicas/wesley-safadao/1765429.txt</td>\n",
       "      <td>0.915</td>\n",
       "    </tr>\n",
       "    <tr>\n",
       "      <th>416275</th>\n",
       "      <td>musicas/wesley-safadao/1616936.txt</td>\n",
       "      <td>musicas/wesley-safadao/920111.txt</td>\n",
       "      <td>0.913</td>\n",
       "    </tr>\n",
       "    <tr>\n",
       "      <th>951235</th>\n",
       "      <td>musicas/pitty/1690403.txt</td>\n",
       "      <td>musicas/rita-lee/48515.txt</td>\n",
       "      <td>0.906</td>\n",
       "    </tr>\n",
       "    <tr>\n",
       "      <th>93704</th>\n",
       "      <td>musicas/pitty/admiravel-chip-novo-2022-remix.txt</td>\n",
       "      <td>musicas/pitty/admiravel-chip-novo.txt</td>\n",
       "      <td>0.897</td>\n",
       "    </tr>\n",
       "    <tr>\n",
       "      <th>332961</th>\n",
       "      <td>musicas/pitty/1201435.txt</td>\n",
       "      <td>musicas/rita-lee/277573.txt</td>\n",
       "      <td>0.897</td>\n",
       "    </tr>\n",
       "    <tr>\n",
       "      <th>312723</th>\n",
       "      <td>musicas/pitty/1096754.txt</td>\n",
       "      <td>musicas/pitty/admiravel-chip-novo-2022-remix.txt</td>\n",
       "      <td>0.891</td>\n",
       "    </tr>\n",
       "    <tr>\n",
       "      <th>9999</th>\n",
       "      <td>musicas/mano-walter/1427391.txt</td>\n",
       "      <td>musicas/mano-walter/1428243.txt</td>\n",
       "      <td>0.888</td>\n",
       "    </tr>\n",
       "    <tr>\n",
       "      <th>236344</th>\n",
       "      <td>musicas/pitty/as-curvas-da-estrada-de-santos.txt</td>\n",
       "      <td>musicas/rita-lee/1998334.txt</td>\n",
       "      <td>0.882</td>\n",
       "    </tr>\n",
       "    <tr>\n",
       "      <th>30548</th>\n",
       "      <td>musicas/wesley-safadao/908113.txt</td>\n",
       "      <td>musicas/wesley-safadao/ta-combinado-part-mara-pavanelly.txt</td>\n",
       "      <td>0.855</td>\n",
       "    </tr>\n",
       "    <tr>\n",
       "      <th>1161265</th>\n",
       "      <td>musicas/mano-walter/pagina-de-amigos.txt</td>\n",
       "      <td>musicas/wesley-safadao/1629564.txt</td>\n",
       "      <td>0.850</td>\n",
       "    </tr>\n",
       "    <tr>\n",
       "      <th>1179993</th>\n",
       "      <td>musicas/wesley-safadao/1446427.txt</td>\n",
       "      <td>musicas/wesley-safadao/voce-nao-tem-limite.txt</td>\n",
       "      <td>0.845</td>\n",
       "    </tr>\n",
       "    <tr>\n",
       "      <th>1165025</th>\n",
       "      <td>musicas/mano-walter/1892403.txt</td>\n",
       "      <td>musicas/wesley-safadao/1812664.txt</td>\n",
       "      <td>0.829</td>\n",
       "    </tr>\n",
       "    <tr>\n",
       "      <th>196165</th>\n",
       "      <td>musicas/wesley-safadao/1910481.txt</td>\n",
       "      <td>musicas/wesley-safadao/1913749.txt</td>\n",
       "      <td>0.822</td>\n",
       "    </tr>\n",
       "    <tr>\n",
       "      <th>1025096</th>\n",
       "      <td>musicas/pitty/165095.txt</td>\n",
       "      <td>musicas/pitty/759239.txt</td>\n",
       "      <td>0.804</td>\n",
       "    </tr>\n",
       "    <tr>\n",
       "      <th>638451</th>\n",
       "      <td>musicas/wesley-safadao/1856104.txt</td>\n",
       "      <td>musicas/wesley-safadao/1862510.txt</td>\n",
       "      <td>0.802</td>\n",
       "    </tr>\n",
       "    <tr>\n",
       "      <th>1000528</th>\n",
       "      <td>musicas/mano-walter/1888763.txt</td>\n",
       "      <td>musicas/wesley-safadao/1335863.txt</td>\n",
       "      <td>0.797</td>\n",
       "    </tr>\n",
       "    <tr>\n",
       "      <th>1046623</th>\n",
       "      <td>musicas/wesley-safadao/1691494.txt</td>\n",
       "      <td>musicas/wesley-safadao/pout-pourri-so-freud-explica-meu-amanhecer-ninguem-vai-separar.txt</td>\n",
       "      <td>0.773</td>\n",
       "    </tr>\n",
       "    <tr>\n",
       "      <th>978109</th>\n",
       "      <td>musicas/mano-walter/1892410.txt</td>\n",
       "      <td>musicas/wesley-safadao/1629601.txt</td>\n",
       "      <td>0.769</td>\n",
       "    </tr>\n",
       "    <tr>\n",
       "      <th>97384</th>\n",
       "      <td>musicas/mano-walter/saudade-nao-e-brincadeira.txt</td>\n",
       "      <td>musicas/wesley-safadao/assim-voce-mata-o-papai.txt</td>\n",
       "      <td>0.765</td>\n",
       "    </tr>\n",
       "    <tr>\n",
       "      <th>854692</th>\n",
       "      <td>musicas/mano-walter/1533142.txt</td>\n",
       "      <td>musicas/wesley-safadao/1800230.txt</td>\n",
       "      <td>0.765</td>\n",
       "    </tr>\n",
       "    <tr>\n",
       "      <th>883035</th>\n",
       "      <td>musicas/wesley-safadao/1862473.txt</td>\n",
       "      <td>musicas/wesley-safadao/abertura-garota-vip.txt</td>\n",
       "      <td>0.756</td>\n",
       "    </tr>\n",
       "    <tr>\n",
       "      <th>1192244</th>\n",
       "      <td>musicas/wesley-safadao/307314.txt</td>\n",
       "      <td>musicas/wesley-safadao/358918.txt</td>\n",
       "      <td>0.747</td>\n",
       "    </tr>\n",
       "    <tr>\n",
       "      <th>1082493</th>\n",
       "      <td>musicas/wesley-safadao/escravo-do-amor-tentativas-em-vao-meu-amanhecer-menino-bobo-pot-pourri.txt</td>\n",
       "      <td>musicas/wesley-safadao/tentativas-em-vao-part-marcia-fellipe.txt</td>\n",
       "      <td>0.732</td>\n",
       "    </tr>\n",
       "    <tr>\n",
       "      <th>241563</th>\n",
       "      <td>musicas/wesley-safadao/1756934.txt</td>\n",
       "      <td>musicas/wesley-safadao/1757583.txt</td>\n",
       "      <td>0.721</td>\n",
       "    </tr>\n",
       "    <tr>\n",
       "      <th>968642</th>\n",
       "      <td>musicas/wesley-safadao/1595953.txt</td>\n",
       "      <td>musicas/wesley-safadao/escravo-do-amor-tentativas-em-vao-meu-amanhecer-menino-bobo-pot-pourri.txt</td>\n",
       "      <td>0.716</td>\n",
       "    </tr>\n",
       "    <tr>\n",
       "      <th>674960</th>\n",
       "      <td>musicas/pitty/1219207.txt</td>\n",
       "      <td>musicas/rita-lee/48495.txt</td>\n",
       "      <td>0.712</td>\n",
       "    </tr>\n",
       "    <tr>\n",
       "      <th>1147161</th>\n",
       "      <td>musicas/wesley-safadao/1210174.txt</td>\n",
       "      <td>musicas/wesley-safadao/assim-voce-mata-o-papai.txt</td>\n",
       "      <td>0.702</td>\n",
       "    </tr>\n",
       "  </tbody>\n",
       "</table>\n",
       "</div>"
      ],
      "text/plain": [
       "                                                                                                  Música 1  \\\n",
       "417005                                                                           musicas/pitty/1690404.txt   \n",
       "833982                                                                  musicas/wesley-safadao/1106034.txt   \n",
       "488103                                       musicas/wesley-safadao/despedida-part-ze-neto-e-cristiano.txt   \n",
       "1011840                                                                    musicas/mano-walter/1265791.txt   \n",
       "65078                                                      musicas/mano-walter/agora-vai-ser-pra-valer.txt   \n",
       "106431                                                                           musicas/pitty/1201441.txt   \n",
       "1133036                                                                          musicas/pitty/redimir.txt   \n",
       "113178                                                                     musicas/mano-walter/1892399.txt   \n",
       "416275                                                                  musicas/wesley-safadao/1616936.txt   \n",
       "951235                                                                           musicas/pitty/1690403.txt   \n",
       "93704                                                     musicas/pitty/admiravel-chip-novo-2022-remix.txt   \n",
       "332961                                                                           musicas/pitty/1201435.txt   \n",
       "312723                                                                           musicas/pitty/1096754.txt   \n",
       "9999                                                                       musicas/mano-walter/1427391.txt   \n",
       "236344                                                    musicas/pitty/as-curvas-da-estrada-de-santos.txt   \n",
       "30548                                                                    musicas/wesley-safadao/908113.txt   \n",
       "1161265                                                           musicas/mano-walter/pagina-de-amigos.txt   \n",
       "1179993                                                                 musicas/wesley-safadao/1446427.txt   \n",
       "1165025                                                                    musicas/mano-walter/1892403.txt   \n",
       "196165                                                                  musicas/wesley-safadao/1910481.txt   \n",
       "1025096                                                                           musicas/pitty/165095.txt   \n",
       "638451                                                                  musicas/wesley-safadao/1856104.txt   \n",
       "1000528                                                                    musicas/mano-walter/1888763.txt   \n",
       "1046623                                                                 musicas/wesley-safadao/1691494.txt   \n",
       "978109                                                                     musicas/mano-walter/1892410.txt   \n",
       "97384                                                    musicas/mano-walter/saudade-nao-e-brincadeira.txt   \n",
       "854692                                                                     musicas/mano-walter/1533142.txt   \n",
       "883035                                                                  musicas/wesley-safadao/1862473.txt   \n",
       "1192244                                                                  musicas/wesley-safadao/307314.txt   \n",
       "1082493  musicas/wesley-safadao/escravo-do-amor-tentativas-em-vao-meu-amanhecer-menino-bobo-pot-pourri.txt   \n",
       "241563                                                                  musicas/wesley-safadao/1756934.txt   \n",
       "968642                                                                  musicas/wesley-safadao/1595953.txt   \n",
       "674960                                                                           musicas/pitty/1219207.txt   \n",
       "1147161                                                                 musicas/wesley-safadao/1210174.txt   \n",
       "\n",
       "                                                                                                  Música 2  \\\n",
       "417005                                                                             musicas/rita-lee/94.txt   \n",
       "833982                                    musicas/wesley-safadao/beber-e-paquerar-part-rai-saia-rodada.txt   \n",
       "488103                                                                musicas/wesley-safadao/despedida.txt   \n",
       "1011840                                                                 musicas/wesley-safadao/1369879.txt   \n",
       "65078                                                         musicas/wesley-safadao/agora-e-pra-valer.txt   \n",
       "106431                                                                            musicas/pitty/250101.txt   \n",
       "1133036                                                                           musicas/pitty/redmir.txt   \n",
       "113178                                                                  musicas/wesley-safadao/1765429.txt   \n",
       "416275                                                                   musicas/wesley-safadao/920111.txt   \n",
       "951235                                                                          musicas/rita-lee/48515.txt   \n",
       "93704                                                                musicas/pitty/admiravel-chip-novo.txt   \n",
       "332961                                                                         musicas/rita-lee/277573.txt   \n",
       "312723                                                    musicas/pitty/admiravel-chip-novo-2022-remix.txt   \n",
       "9999                                                                       musicas/mano-walter/1428243.txt   \n",
       "236344                                                                        musicas/rita-lee/1998334.txt   \n",
       "30548                                          musicas/wesley-safadao/ta-combinado-part-mara-pavanelly.txt   \n",
       "1161265                                                                 musicas/wesley-safadao/1629564.txt   \n",
       "1179993                                                     musicas/wesley-safadao/voce-nao-tem-limite.txt   \n",
       "1165025                                                                 musicas/wesley-safadao/1812664.txt   \n",
       "196165                                                                  musicas/wesley-safadao/1913749.txt   \n",
       "1025096                                                                           musicas/pitty/759239.txt   \n",
       "638451                                                                  musicas/wesley-safadao/1862510.txt   \n",
       "1000528                                                                 musicas/wesley-safadao/1335863.txt   \n",
       "1046623          musicas/wesley-safadao/pout-pourri-so-freud-explica-meu-amanhecer-ninguem-vai-separar.txt   \n",
       "978109                                                                  musicas/wesley-safadao/1629601.txt   \n",
       "97384                                                   musicas/wesley-safadao/assim-voce-mata-o-papai.txt   \n",
       "854692                                                                  musicas/wesley-safadao/1800230.txt   \n",
       "883035                                                      musicas/wesley-safadao/abertura-garota-vip.txt   \n",
       "1192244                                                                  musicas/wesley-safadao/358918.txt   \n",
       "1082493                                   musicas/wesley-safadao/tentativas-em-vao-part-marcia-fellipe.txt   \n",
       "241563                                                                  musicas/wesley-safadao/1757583.txt   \n",
       "968642   musicas/wesley-safadao/escravo-do-amor-tentativas-em-vao-meu-amanhecer-menino-bobo-pot-pourri.txt   \n",
       "674960                                                                          musicas/rita-lee/48495.txt   \n",
       "1147161                                                 musicas/wesley-safadao/assim-voce-mata-o-papai.txt   \n",
       "\n",
       "         Similaridade  \n",
       "417005          0.949  \n",
       "833982          0.947  \n",
       "488103          0.937  \n",
       "1011840         0.927  \n",
       "65078           0.923  \n",
       "106431          0.923  \n",
       "1133036         0.916  \n",
       "113178          0.915  \n",
       "416275          0.913  \n",
       "951235          0.906  \n",
       "93704           0.897  \n",
       "332961          0.897  \n",
       "312723          0.891  \n",
       "9999            0.888  \n",
       "236344          0.882  \n",
       "30548           0.855  \n",
       "1161265         0.850  \n",
       "1179993         0.845  \n",
       "1165025         0.829  \n",
       "196165          0.822  \n",
       "1025096         0.804  \n",
       "638451          0.802  \n",
       "1000528         0.797  \n",
       "1046623         0.773  \n",
       "978109          0.769  \n",
       "97384           0.765  \n",
       "854692          0.765  \n",
       "883035          0.756  \n",
       "1192244         0.747  \n",
       "1082493         0.732  \n",
       "241563          0.721  \n",
       "968642          0.716  \n",
       "674960          0.712  \n",
       "1147161         0.702  "
      ]
     },
     "execution_count": 186,
     "metadata": {},
     "output_type": "execute_result"
    }
   ],
   "source": [
    "df[(df['Similaridade'] < 0.95) & (df['Similaridade'] > 0.7)].sort_values(\"Similaridade\", ascending=False)"
   ]
  },
  {
   "cell_type": "markdown",
   "id": "61027abb",
   "metadata": {},
   "source": [
    "## Avaliação de exemplos"
   ]
  },
  {
   "cell_type": "code",
   "execution_count": 258,
   "id": "2fbbd06d",
   "metadata": {},
   "outputs": [],
   "source": [
    "idpar = 417005 # lança perfume\n",
    "idpar = 65078  # agora é pra valer\n",
    "idpar = 674960 # agora só falta você"
   ]
  },
  {
   "cell_type": "code",
   "execution_count": 259,
   "id": "9493afa4",
   "metadata": {},
   "outputs": [
    {
     "data": {
      "text/plain": [
       "Música 1         musicas/pitty/1219207.txt\n",
       "Música 2        musicas/rita-lee/48495.txt\n",
       "Similaridade                         0.712\n",
       "Name: 674960, dtype: object"
      ]
     },
     "execution_count": 259,
     "metadata": {},
     "output_type": "execute_result"
    }
   ],
   "source": [
    "par = df.loc[idpar]\n",
    "musica1 = par[0]\n",
    "musica2 = par[1]\n",
    "par"
   ]
  },
  {
   "cell_type": "code",
   "execution_count": 260,
   "id": "bd932169",
   "metadata": {},
   "outputs": [],
   "source": [
    "letra1 = sample_contents[sample_files.index(musica1)]\n",
    "letra2 = sample_contents[sample_files.index(musica2)]"
   ]
  },
  {
   "cell_type": "code",
   "execution_count": 261,
   "id": "b7a77e41",
   "metadata": {},
   "outputs": [
    {
     "data": {
      "text/plain": [
       "'Agora Só Falta Você\\n\\nUm belo dia resolvi mudar E fazer tudo o que eu queria fazer Me libertei daquela vida vulgar Que eu levava estando junto a você\\nE em tudo que eu faço Existe um porquê Eu sei que eu nasci Sei que eu nasci pra saber\\nE fui andando sem pensar em voltar E sem ligar pro que me aconteceu Um belo dia vou lhe telefonar Pra lhe dizer que aquele sonho cresceu\\nNo ar que eu respiro Eu sinto prazer De ser quem eu sou De estar onde estou\\nAgora só falta você, iê, iê Agora só falta você Agora só falta você, iê, iê Agora só falta você!\\n\\n'"
      ]
     },
     "execution_count": 261,
     "metadata": {},
     "output_type": "execute_result"
    }
   ],
   "source": [
    "letra1"
   ]
  },
  {
   "cell_type": "code",
   "execution_count": 262,
   "id": "97e237da",
   "metadata": {},
   "outputs": [
    {
     "data": {
      "text/plain": [
       "'Agora Só Falta Você\\n\\nUm belo dia resolvi mudar E fazer tudo o que eu queria fazer Me libertei daquela vida vulgar Que eu levava estando junto a você\\nE em tudo que eu faço Existe um porquê Eu sei que eu nasci Sei que eu nasci pra saber\\nE fui andando sem pensar em voltar E sem ligar pro que me aconteceu Um belo dia vou lhe telefonar Pra lhe dizer que aquele sonho cresceu\\nNo ar que eu respiro Eu sinto prazer De ser quem eu sou, de estar onde estou Agora só falta você, yeah, yeah Agora só falta você Agora só falta você, yeah, yeah Agora só falta você\\nE fui andando sem pensar em voltar E sem ligar pro que me aconteceu Um belo dia vou lhe telefonar Pra lhe dizer que aquele sonho cresceu\\nNo ar que eu respiro Eu sinto prazer De ser quem eu sou, de estar onde estou Agora só falta você, yeah, yeah Agora só falta você Agora só falta você, yeah, yeah Agora só falta você\\nAgora só falta você Agora só falta você Agora só falta você Agora só falta você\\nÉ você, é você, é você É você, é você, é você\\nAgora só falta você, yeah, yeah Agora só falta você Agora só falta você, yeah, yeah Agora só falta você\\n\\n'"
      ]
     },
     "execution_count": 262,
     "metadata": {},
     "output_type": "execute_result"
    }
   ],
   "source": [
    "letra2"
   ]
  },
  {
   "cell_type": "markdown",
   "id": "2f21171d",
   "metadata": {},
   "source": [
    "## ..."
   ]
  },
  {
   "cell_type": "code",
   "execution_count": 263,
   "id": "7f78c820",
   "metadata": {
    "scrolled": true
   },
   "outputs": [],
   "source": [
    "#!pip install -U nltk"
   ]
  },
  {
   "cell_type": "code",
   "execution_count": 264,
   "id": "9093b2a3",
   "metadata": {},
   "outputs": [],
   "source": [
    "import nltk\n",
    "#nltk.download('punkt')"
   ]
  },
  {
   "cell_type": "code",
   "execution_count": 265,
   "id": "fbfa61d6",
   "metadata": {},
   "outputs": [],
   "source": [
    "import re\n",
    "from nltk.util import ngrams, pad_sequence, everygrams\n",
    "from nltk.tokenize import word_tokenize\n",
    "from nltk.lm import MLE, WittenBellInterpolated\n",
    "import numpy as np\n",
    "import plotly.graph_objects as go\n",
    "from scipy.ndimage import gaussian_filter"
   ]
  },
  {
   "cell_type": "code",
   "execution_count": 266,
   "id": "5ba6c5f7",
   "metadata": {},
   "outputs": [
    {
     "data": {
      "text/plain": [
       "['a',\n",
       " 'à',\n",
       " 'ao',\n",
       " 'aos',\n",
       " 'aquela',\n",
       " 'aquelas',\n",
       " 'aquele',\n",
       " 'aqueles',\n",
       " 'aquilo',\n",
       " 'as']"
      ]
     },
     "execution_count": 266,
     "metadata": {},
     "output_type": "execute_result"
    }
   ],
   "source": [
    "stopwords = nltk.corpus.stopwords.words('portuguese')\n",
    "stopwords[:10]"
   ]
  },
  {
   "cell_type": "code",
   "execution_count": 267,
   "id": "cf3314f2",
   "metadata": {},
   "outputs": [],
   "source": [
    "# Training data file\n",
    "train_data_file = musica1 #\"train.txt\"\n",
    "\n",
    "# read training dataz\n",
    "with open(train_data_file) as f:\n",
    "    train_text = f.read().lower()\n",
    "\n",
    "# apply preprocessing (remove text inside square and curly brackets and rem punc)\n",
    "train_text = re.sub(r\"\\[.*\\]|\\{.*\\}\", \"\", train_text)\n",
    "train_text = re.sub(r'[^\\w\\s]', \"\", train_text)\n",
    "train_text = re.sub(r'[\\n]', \" \", train_text)"
   ]
  },
  {
   "cell_type": "code",
   "execution_count": 268,
   "id": "3d5fe3ee",
   "metadata": {},
   "outputs": [
    {
     "data": {
      "text/plain": [
       "'agora só falta você  um belo dia resolvi mudar e fazer tudo o que eu queria fazer me libertei daquela vida vulgar que eu levava estando junto a você e em tudo que eu faço existe um porquê eu sei que eu nasci sei que eu nasci pra saber e fui andando sem pensar em voltar e sem ligar pro que me aconteceu um belo dia vou lhe telefonar pra lhe dizer que aquele sonho cresceu no ar que eu respiro eu sinto prazer de ser quem eu sou de estar onde estou agora só falta você iê iê agora só falta você agora só falta você iê iê agora só falta você  '"
      ]
     },
     "execution_count": 268,
     "metadata": {},
     "output_type": "execute_result"
    }
   ],
   "source": [
    "train_text"
   ]
  },
  {
   "cell_type": "code",
   "execution_count": 269,
   "id": "90ad9940",
   "metadata": {},
   "outputs": [
    {
     "name": "stdout",
     "output_type": "stream",
     "text": [
      "Number of ngrams: 458\n",
      "<Vocabulary with cutoff=1 unk_label='<UNK>' and 63 items>\n"
     ]
    }
   ],
   "source": [
    "# set ngram number\n",
    "n = 4\n",
    "\n",
    "# pad the text and tokenize\n",
    "training_data = list(pad_sequence(word_tokenize(train_text, language=\"portuguese\"), n, \n",
    "                                  pad_left=True, \n",
    "                                  left_pad_symbol=\"<s>\"))\n",
    "\n",
    "# generate ngrams\n",
    "ngrams = list(everygrams(training_data, max_len=n))\n",
    "print(\"Number of ngrams:\", len(ngrams))\n",
    "\n",
    "# build ngram language models\n",
    "model = WittenBellInterpolated(n)\n",
    "model.fit([ngrams], vocabulary_text=training_data)\n",
    "print(model.vocab)"
   ]
  },
  {
   "cell_type": "code",
   "execution_count": 270,
   "id": "48b960e6",
   "metadata": {},
   "outputs": [],
   "source": [
    "# testing data file\n",
    "test_data_file = musica2 #\"test.txt\"\n",
    "\n",
    "# Read testing data\n",
    "with open(test_data_file) as f:\n",
    "    test_text = f.read().lower()\n",
    "    \n",
    "test_text = re.sub(r'[^\\w\\s]', \"\", test_text)\n",
    "test_text = re.sub(r'[\\n]', \" \", test_text)"
   ]
  },
  {
   "cell_type": "code",
   "execution_count": 271,
   "id": "5056fe56",
   "metadata": {},
   "outputs": [
    {
     "data": {
      "text/plain": [
       "'agora só falta você  um belo dia resolvi mudar e fazer tudo o que eu queria fazer me libertei daquela vida vulgar que eu levava estando junto a você e em tudo que eu faço existe um porquê eu sei que eu nasci sei que eu nasci pra saber e fui andando sem pensar em voltar e sem ligar pro que me aconteceu um belo dia vou lhe telefonar pra lhe dizer que aquele sonho cresceu no ar que eu respiro eu sinto prazer de ser quem eu sou de estar onde estou agora só falta você yeah yeah agora só falta você agora só falta você yeah yeah agora só falta você e fui andando sem pensar em voltar e sem ligar pro que me aconteceu um belo dia vou lhe telefonar pra lhe dizer que aquele sonho cresceu no ar que eu respiro eu sinto prazer de ser quem eu sou de estar onde estou agora só falta você yeah yeah agora só falta você agora só falta você yeah yeah agora só falta você agora só falta você agora só falta você agora só falta você agora só falta você é você é você é você é você é você é você agora só falta você yeah yeah agora só falta você agora só falta você yeah yeah agora só falta você  '"
      ]
     },
     "execution_count": 271,
     "metadata": {},
     "output_type": "execute_result"
    }
   ],
   "source": [
    "test_text"
   ]
  },
  {
   "cell_type": "code",
   "execution_count": 272,
   "id": "c959237e",
   "metadata": {},
   "outputs": [
    {
     "name": "stdout",
     "output_type": "stream",
     "text": [
      "Length of test data: 228\n"
     ]
    }
   ],
   "source": [
    "# Tokenize and pad the text\n",
    "testing_data = list(pad_sequence(word_tokenize(test_text, language=\"portuguese\"), n, \n",
    "                                 pad_left=True,\n",
    "                                 left_pad_symbol=\"<s>\"))\n",
    "print(\"Length of test data:\", len(testing_data))"
   ]
  },
  {
   "cell_type": "code",
   "execution_count": 273,
   "id": "3c0168ea",
   "metadata": {},
   "outputs": [],
   "source": [
    "# assign scores\n",
    "scores = []\n",
    "for i, item in enumerate(testing_data[n-1:]):\n",
    "    s = model.score(item, testing_data[i:i+n-1])\n",
    "    scores.append(s)\n",
    "\n",
    "scores_np = np.array(scores)"
   ]
  },
  {
   "cell_type": "code",
   "execution_count": 274,
   "id": "ad02855f",
   "metadata": {},
   "outputs": [
    {
     "name": "stdout",
     "output_type": "stream",
     "text": [
      "Width, Height: 8 , 29\n"
     ]
    }
   ],
   "source": [
    "# set width and height\n",
    "width = 8\n",
    "height = np.ceil(len(testing_data)/width).astype(\"int32\")\n",
    "print(\"Width, Height:\", width, \",\", height)\n",
    "\n",
    "# copy scores to rectangular blank array\n",
    "a = np.zeros(width*height)\n",
    "a[:len(scores_np)] = scores_np\n",
    "diff = len(a) - len(scores_np)\n",
    "\n",
    "# apply gaussian smoothing for aesthetics\n",
    "a = gaussian_filter(a, sigma=1.0)\n",
    "\n",
    "# reshape to fit rectangle\n",
    "a = a.reshape(-1, width)\n",
    "\n",
    "# format labels\n",
    "labels = [\" \".join(testing_data[i:i+width]) for i in range(n-1, len(testing_data), width)]\n",
    "labels_individual = [x.split() for x in labels]\n",
    "labels_individual[-1] += [\"\"]*diff\n",
    "labels = [f\"{x:60.60}\" for x in labels]"
   ]
  },
  {
   "cell_type": "code",
   "execution_count": 275,
   "id": "9f3bac81",
   "metadata": {},
   "outputs": [
    {
     "data": {
      "application/vnd.plotly.v1+json": {
       "config": {
        "plotlyServerURL": "https://plot.ly"
       },
       "data": [
        {
         "colorscale": [
          [
           0,
           "rgb(255, 198, 196)"
          ],
          [
           0.16666666666666666,
           "rgb(244, 163, 168)"
          ],
          [
           0.3333333333333333,
           "rgb(227, 129, 145)"
          ],
          [
           0.5,
           "rgb(204, 96, 125)"
          ],
          [
           0.6666666666666666,
           "rgb(173, 70, 108)"
          ],
          [
           0.8333333333333334,
           "rgb(139, 48, 88)"
          ],
          [
           1,
           "rgb(103, 32, 68)"
          ]
         ],
         "customdata": [
          [
           "agora",
           "só",
           "falta",
           "você",
           "um",
           "belo",
           "dia",
           "resolvi"
          ],
          [
           "mudar",
           "e",
           "fazer",
           "tudo",
           "o",
           "que",
           "eu",
           "queria"
          ],
          [
           "fazer",
           "me",
           "libertei",
           "daquela",
           "vida",
           "vulgar",
           "que",
           "eu"
          ],
          [
           "levava",
           "estando",
           "junto",
           "a",
           "você",
           "e",
           "em",
           "tudo"
          ],
          [
           "que",
           "eu",
           "faço",
           "existe",
           "um",
           "porquê",
           "eu",
           "sei"
          ],
          [
           "que",
           "eu",
           "nasci",
           "sei",
           "que",
           "eu",
           "nasci",
           "pra"
          ],
          [
           "saber",
           "e",
           "fui",
           "andando",
           "sem",
           "pensar",
           "em",
           "voltar"
          ],
          [
           "e",
           "sem",
           "ligar",
           "pro",
           "que",
           "me",
           "aconteceu",
           "um"
          ],
          [
           "belo",
           "dia",
           "vou",
           "lhe",
           "telefonar",
           "pra",
           "lhe",
           "dizer"
          ],
          [
           "que",
           "aquele",
           "sonho",
           "cresceu",
           "no",
           "ar",
           "que",
           "eu"
          ],
          [
           "respiro",
           "eu",
           "sinto",
           "prazer",
           "de",
           "ser",
           "quem",
           "eu"
          ],
          [
           "sou",
           "de",
           "estar",
           "onde",
           "estou",
           "agora",
           "só",
           "falta"
          ],
          [
           "você",
           "yeah",
           "yeah",
           "agora",
           "só",
           "falta",
           "você",
           "agora"
          ],
          [
           "só",
           "falta",
           "você",
           "yeah",
           "yeah",
           "agora",
           "só",
           "falta"
          ],
          [
           "você",
           "e",
           "fui",
           "andando",
           "sem",
           "pensar",
           "em",
           "voltar"
          ],
          [
           "e",
           "sem",
           "ligar",
           "pro",
           "que",
           "me",
           "aconteceu",
           "um"
          ],
          [
           "belo",
           "dia",
           "vou",
           "lhe",
           "telefonar",
           "pra",
           "lhe",
           "dizer"
          ],
          [
           "que",
           "aquele",
           "sonho",
           "cresceu",
           "no",
           "ar",
           "que",
           "eu"
          ],
          [
           "respiro",
           "eu",
           "sinto",
           "prazer",
           "de",
           "ser",
           "quem",
           "eu"
          ],
          [
           "sou",
           "de",
           "estar",
           "onde",
           "estou",
           "agora",
           "só",
           "falta"
          ],
          [
           "você",
           "yeah",
           "yeah",
           "agora",
           "só",
           "falta",
           "você",
           "agora"
          ],
          [
           "só",
           "falta",
           "você",
           "yeah",
           "yeah",
           "agora",
           "só",
           "falta"
          ],
          [
           "você",
           "agora",
           "só",
           "falta",
           "você",
           "agora",
           "só",
           "falta"
          ],
          [
           "você",
           "agora",
           "só",
           "falta",
           "você",
           "agora",
           "só",
           "falta"
          ],
          [
           "você",
           "é",
           "você",
           "é",
           "você",
           "é",
           "você",
           "é"
          ],
          [
           "você",
           "é",
           "você",
           "é",
           "você",
           "agora",
           "só",
           "falta"
          ],
          [
           "você",
           "yeah",
           "yeah",
           "agora",
           "só",
           "falta",
           "você",
           "agora"
          ],
          [
           "só",
           "falta",
           "você",
           "yeah",
           "yeah",
           "agora",
           "só",
           "falta"
          ],
          [
           "você",
           "",
           "",
           "",
           "",
           "",
           "",
           ""
          ]
         ],
         "dx": 1,
         "hovertemplate": "%{customdata} <br><b>Score:%{z:.3f}<extra></extra>",
         "type": "heatmap",
         "x0": 0,
         "y": [
          "agora só falta você um belo dia resolvi                     ",
          "mudar e fazer tudo o que eu queria                          ",
          "fazer me libertei daquela vida vulgar que eu                ",
          "levava estando junto a você e em tudo                       ",
          "que eu faço existe um porquê eu sei                         ",
          "que eu nasci sei que eu nasci pra                           ",
          "saber e fui andando sem pensar em voltar                    ",
          "e sem ligar pro que me aconteceu um                         ",
          "belo dia vou lhe telefonar pra lhe dizer                    ",
          "que aquele sonho cresceu no ar que eu                       ",
          "respiro eu sinto prazer de ser quem eu                      ",
          "sou de estar onde estou agora só falta                      ",
          "você yeah yeah agora só falta você agora                    ",
          "só falta você yeah yeah agora só falta                      ",
          "você e fui andando sem pensar em voltar                     ",
          "e sem ligar pro que me aconteceu um                         ",
          "belo dia vou lhe telefonar pra lhe dizer                    ",
          "que aquele sonho cresceu no ar que eu                       ",
          "respiro eu sinto prazer de ser quem eu                      ",
          "sou de estar onde estou agora só falta                      ",
          "você yeah yeah agora só falta você agora                    ",
          "só falta você yeah yeah agora só falta                      ",
          "você agora só falta você agora só falta                     ",
          "você agora só falta você agora só falta                     ",
          "você é você é você é você é                                 ",
          "você é você é você agora só falta                           ",
          "você yeah yeah agora só falta você agora                    ",
          "só falta você yeah yeah agora só falta                      ",
          "você                                                        "
         ],
         "z": [
          [
           0.7817649814338743,
           0.8821029058066113,
           0.922825972515849,
           0.795952718431964,
           0.6481269978531761,
           0.7093162963785844,
           0.7574593881870607,
           0.7138927645957742
          ],
          [
           0.7692613142770522,
           0.8280338090355575,
           0.8197577043363751,
           0.8145761679473299,
           0.8325563749180399,
           0.8469234815275841,
           0.8036919640101314,
           0.7504374668274683
          ],
          [
           0.782593273496658,
           0.8197019609035973,
           0.8349404833450815,
           0.8576360608188208,
           0.8728650258213186,
           0.8770566172113706,
           0.8657683209955443,
           0.8075734274773818
          ],
          [
           0.7540559110774394,
           0.8004198934568314,
           0.8589283292481601,
           0.8704620698710468,
           0.8500430194421291,
           0.8137119439764824,
           0.7987358200912986,
           0.8102138882558411
          ],
          [
           0.8205590988748368,
           0.7887100779628327,
           0.7501802956347429,
           0.7966075379344151,
           0.8417069696773469,
           0.8415871475520871,
           0.8376462829811522,
           0.8438598086091452
          ],
          [
           0.8718120799888923,
           0.8472896645203893,
           0.7359524582756674,
           0.6869249496508278,
           0.7857512557752147,
           0.8285452058217166,
           0.7283982367202313,
           0.6581475355770345
          ],
          [
           0.7344924985934802,
           0.8154245918142665,
           0.8339142304267158,
           0.850114616351137,
           0.8561101827474538,
           0.847877534440014,
           0.8460621495075231,
           0.8435364505377689
          ],
          [
           0.8362278778465224,
           0.821407273571225,
           0.8285633064058617,
           0.851988827449254,
           0.8472106050854418,
           0.8217459444005002,
           0.8262744467380261,
           0.8522423471164613
          ],
          [
           0.856207060851419,
           0.7915859087018198,
           0.713883591326052,
           0.7589346361094611,
           0.8247557223836813,
           0.8412955467291356,
           0.8332346557477373,
           0.8323394323667985
          ],
          [
           0.8357781884761235,
           0.8332598410626679,
           0.8513350446473846,
           0.8705899009753111,
           0.8760571228542321,
           0.877329229700101,
           0.8658001218993692,
           0.8075497790398021
          ],
          [
           0.7501829688415987,
           0.7771408717529229,
           0.8169092455585438,
           0.8453272599019557,
           0.8554452479916623,
           0.8508929247619728,
           0.8571218276529419,
           0.8492249079971992
          ],
          [
           0.8307465934941016,
           0.8351385549879135,
           0.8455145955964966,
           0.8611446474300296,
           0.8787804785644733,
           0.9042441008977661,
           0.939867698250303,
           0.9184132531813273
          ],
          [
           0.6921086137015664,
           0.30473824008539585,
           0.11851313423007052,
           0.2821204061434273,
           0.6363147384752958,
           0.8516545403379367,
           0.7898194778475545,
           0.6781683291034935
          ],
          [
           0.7888991830799772,
           0.8837333269268115,
           0.6892333551700185,
           0.3046509317312615,
           0.11851313423007052,
           0.2820929995904626,
           0.6352873162240331,
           0.8365979396896348
          ],
          [
           0.6908642429895969,
           0.3667114141993775,
           0.32267545126775654,
           0.5816774064669703,
           0.7836068556006393,
           0.8378916280871206,
           0.845416895970565,
           0.8435198659237273
          ],
          [
           0.8362278778465224,
           0.821407273571225,
           0.8285633064058617,
           0.851988827449254,
           0.8472106050854418,
           0.8217459444005002,
           0.8262744467380261,
           0.8522423471164613
          ],
          [
           0.856207060851419,
           0.7915859087018198,
           0.713883591326052,
           0.7589346361094611,
           0.8247557223836813,
           0.8412955467291356,
           0.8332346557477373,
           0.8323394323667985
          ],
          [
           0.8357781884761235,
           0.8332598410626679,
           0.8513350446473846,
           0.8705899009753111,
           0.8760571228542321,
           0.877329229700101,
           0.8658001218993692,
           0.8075497790398021
          ],
          [
           0.7501829688415987,
           0.7771408717529229,
           0.8169092455585438,
           0.8453272599019557,
           0.8554452479916623,
           0.8508929247619728,
           0.8571218276529419,
           0.8492249079971992
          ],
          [
           0.8307465934941016,
           0.8351385549879135,
           0.8455145955964966,
           0.8611446474300296,
           0.8787804785644733,
           0.9042441008977661,
           0.939867698250303,
           0.9184132531813273
          ],
          [
           0.6921086137015664,
           0.30473824008539585,
           0.11851313423007052,
           0.2821204061434273,
           0.6363147384752958,
           0.8516545403379367,
           0.7898194778475545,
           0.6781683291034935
          ],
          [
           0.7888991830799772,
           0.8837333269268115,
           0.6892333551700185,
           0.3046509317312615,
           0.11851313423007052,
           0.2821204061434273,
           0.6363147384752958,
           0.8516545403379367
          ],
          [
           0.7898194778475545,
           0.6781988436160727,
           0.790038179660654,
           0.9004252035849213,
           0.8004460408857325,
           0.6794712482001617,
           0.7901130878783041,
           0.9004269822246881
          ],
          [
           0.8004460408857325,
           0.6794712482001617,
           0.7901130878783041,
           0.9004269822246881,
           0.8004460408857325,
           0.6794407336875823,
           0.7889810135713142,
           0.8839585712268982
          ],
          [
           0.691729406499948,
           0.3112133971672426,
           0.08169012710398779,
           0.029805220079307145,
           0.026360461438821384,
           0.02548999730447917,
           0.026234140626555314,
           0.02548999730447917
          ],
          [
           0.026234140626555314,
           0.025507431178950057,
           0.026927707771376836,
           0.036504600872832055,
           0.10914776301866441,
           0.34507693276477064,
           0.6939616050553885,
           0.8644952083263726
          ],
          [
           0.6865211996293606,
           0.30446114971390614,
           0.11850779831077014,
           0.2821204061434273,
           0.6363147384752958,
           0.8516545403379367,
           0.7898194778475545,
           0.6781683291034935
          ],
          [
           0.7888991830799772,
           0.8837333269268115,
           0.6892333551700185,
           0.3046509317312615,
           0.11851313423007052,
           0.282089891630848,
           0.6351757418946189,
           0.8349568951184212
          ],
          [
           0.6783032766663225,
           0.2971959939309141,
           0.05818064505522992,
           0.004542678356786938,
           0.0001332430859530391,
           0,
           0,
           0
          ]
         ],
         "zmax": 1,
         "zmin": 0
        }
       ],
       "layout": {
        "font": {
         "family": "Courier New"
        },
        "height": 812,
        "template": {
         "data": {
          "bar": [
           {
            "error_x": {
             "color": "#2a3f5f"
            },
            "error_y": {
             "color": "#2a3f5f"
            },
            "marker": {
             "line": {
              "color": "#E5ECF6",
              "width": 0.5
             },
             "pattern": {
              "fillmode": "overlay",
              "size": 10,
              "solidity": 0.2
             }
            },
            "type": "bar"
           }
          ],
          "barpolar": [
           {
            "marker": {
             "line": {
              "color": "#E5ECF6",
              "width": 0.5
             },
             "pattern": {
              "fillmode": "overlay",
              "size": 10,
              "solidity": 0.2
             }
            },
            "type": "barpolar"
           }
          ],
          "carpet": [
           {
            "aaxis": {
             "endlinecolor": "#2a3f5f",
             "gridcolor": "white",
             "linecolor": "white",
             "minorgridcolor": "white",
             "startlinecolor": "#2a3f5f"
            },
            "baxis": {
             "endlinecolor": "#2a3f5f",
             "gridcolor": "white",
             "linecolor": "white",
             "minorgridcolor": "white",
             "startlinecolor": "#2a3f5f"
            },
            "type": "carpet"
           }
          ],
          "choropleth": [
           {
            "colorbar": {
             "outlinewidth": 0,
             "ticks": ""
            },
            "type": "choropleth"
           }
          ],
          "contour": [
           {
            "colorbar": {
             "outlinewidth": 0,
             "ticks": ""
            },
            "colorscale": [
             [
              0,
              "#0d0887"
             ],
             [
              0.1111111111111111,
              "#46039f"
             ],
             [
              0.2222222222222222,
              "#7201a8"
             ],
             [
              0.3333333333333333,
              "#9c179e"
             ],
             [
              0.4444444444444444,
              "#bd3786"
             ],
             [
              0.5555555555555556,
              "#d8576b"
             ],
             [
              0.6666666666666666,
              "#ed7953"
             ],
             [
              0.7777777777777778,
              "#fb9f3a"
             ],
             [
              0.8888888888888888,
              "#fdca26"
             ],
             [
              1,
              "#f0f921"
             ]
            ],
            "type": "contour"
           }
          ],
          "contourcarpet": [
           {
            "colorbar": {
             "outlinewidth": 0,
             "ticks": ""
            },
            "type": "contourcarpet"
           }
          ],
          "heatmap": [
           {
            "colorbar": {
             "outlinewidth": 0,
             "ticks": ""
            },
            "colorscale": [
             [
              0,
              "#0d0887"
             ],
             [
              0.1111111111111111,
              "#46039f"
             ],
             [
              0.2222222222222222,
              "#7201a8"
             ],
             [
              0.3333333333333333,
              "#9c179e"
             ],
             [
              0.4444444444444444,
              "#bd3786"
             ],
             [
              0.5555555555555556,
              "#d8576b"
             ],
             [
              0.6666666666666666,
              "#ed7953"
             ],
             [
              0.7777777777777778,
              "#fb9f3a"
             ],
             [
              0.8888888888888888,
              "#fdca26"
             ],
             [
              1,
              "#f0f921"
             ]
            ],
            "type": "heatmap"
           }
          ],
          "heatmapgl": [
           {
            "colorbar": {
             "outlinewidth": 0,
             "ticks": ""
            },
            "colorscale": [
             [
              0,
              "#0d0887"
             ],
             [
              0.1111111111111111,
              "#46039f"
             ],
             [
              0.2222222222222222,
              "#7201a8"
             ],
             [
              0.3333333333333333,
              "#9c179e"
             ],
             [
              0.4444444444444444,
              "#bd3786"
             ],
             [
              0.5555555555555556,
              "#d8576b"
             ],
             [
              0.6666666666666666,
              "#ed7953"
             ],
             [
              0.7777777777777778,
              "#fb9f3a"
             ],
             [
              0.8888888888888888,
              "#fdca26"
             ],
             [
              1,
              "#f0f921"
             ]
            ],
            "type": "heatmapgl"
           }
          ],
          "histogram": [
           {
            "marker": {
             "pattern": {
              "fillmode": "overlay",
              "size": 10,
              "solidity": 0.2
             }
            },
            "type": "histogram"
           }
          ],
          "histogram2d": [
           {
            "colorbar": {
             "outlinewidth": 0,
             "ticks": ""
            },
            "colorscale": [
             [
              0,
              "#0d0887"
             ],
             [
              0.1111111111111111,
              "#46039f"
             ],
             [
              0.2222222222222222,
              "#7201a8"
             ],
             [
              0.3333333333333333,
              "#9c179e"
             ],
             [
              0.4444444444444444,
              "#bd3786"
             ],
             [
              0.5555555555555556,
              "#d8576b"
             ],
             [
              0.6666666666666666,
              "#ed7953"
             ],
             [
              0.7777777777777778,
              "#fb9f3a"
             ],
             [
              0.8888888888888888,
              "#fdca26"
             ],
             [
              1,
              "#f0f921"
             ]
            ],
            "type": "histogram2d"
           }
          ],
          "histogram2dcontour": [
           {
            "colorbar": {
             "outlinewidth": 0,
             "ticks": ""
            },
            "colorscale": [
             [
              0,
              "#0d0887"
             ],
             [
              0.1111111111111111,
              "#46039f"
             ],
             [
              0.2222222222222222,
              "#7201a8"
             ],
             [
              0.3333333333333333,
              "#9c179e"
             ],
             [
              0.4444444444444444,
              "#bd3786"
             ],
             [
              0.5555555555555556,
              "#d8576b"
             ],
             [
              0.6666666666666666,
              "#ed7953"
             ],
             [
              0.7777777777777778,
              "#fb9f3a"
             ],
             [
              0.8888888888888888,
              "#fdca26"
             ],
             [
              1,
              "#f0f921"
             ]
            ],
            "type": "histogram2dcontour"
           }
          ],
          "mesh3d": [
           {
            "colorbar": {
             "outlinewidth": 0,
             "ticks": ""
            },
            "type": "mesh3d"
           }
          ],
          "parcoords": [
           {
            "line": {
             "colorbar": {
              "outlinewidth": 0,
              "ticks": ""
             }
            },
            "type": "parcoords"
           }
          ],
          "pie": [
           {
            "automargin": true,
            "type": "pie"
           }
          ],
          "scatter": [
           {
            "fillpattern": {
             "fillmode": "overlay",
             "size": 10,
             "solidity": 0.2
            },
            "type": "scatter"
           }
          ],
          "scatter3d": [
           {
            "line": {
             "colorbar": {
              "outlinewidth": 0,
              "ticks": ""
             }
            },
            "marker": {
             "colorbar": {
              "outlinewidth": 0,
              "ticks": ""
             }
            },
            "type": "scatter3d"
           }
          ],
          "scattercarpet": [
           {
            "marker": {
             "colorbar": {
              "outlinewidth": 0,
              "ticks": ""
             }
            },
            "type": "scattercarpet"
           }
          ],
          "scattergeo": [
           {
            "marker": {
             "colorbar": {
              "outlinewidth": 0,
              "ticks": ""
             }
            },
            "type": "scattergeo"
           }
          ],
          "scattergl": [
           {
            "marker": {
             "colorbar": {
              "outlinewidth": 0,
              "ticks": ""
             }
            },
            "type": "scattergl"
           }
          ],
          "scattermapbox": [
           {
            "marker": {
             "colorbar": {
              "outlinewidth": 0,
              "ticks": ""
             }
            },
            "type": "scattermapbox"
           }
          ],
          "scatterpolar": [
           {
            "marker": {
             "colorbar": {
              "outlinewidth": 0,
              "ticks": ""
             }
            },
            "type": "scatterpolar"
           }
          ],
          "scatterpolargl": [
           {
            "marker": {
             "colorbar": {
              "outlinewidth": 0,
              "ticks": ""
             }
            },
            "type": "scatterpolargl"
           }
          ],
          "scatterternary": [
           {
            "marker": {
             "colorbar": {
              "outlinewidth": 0,
              "ticks": ""
             }
            },
            "type": "scatterternary"
           }
          ],
          "surface": [
           {
            "colorbar": {
             "outlinewidth": 0,
             "ticks": ""
            },
            "colorscale": [
             [
              0,
              "#0d0887"
             ],
             [
              0.1111111111111111,
              "#46039f"
             ],
             [
              0.2222222222222222,
              "#7201a8"
             ],
             [
              0.3333333333333333,
              "#9c179e"
             ],
             [
              0.4444444444444444,
              "#bd3786"
             ],
             [
              0.5555555555555556,
              "#d8576b"
             ],
             [
              0.6666666666666666,
              "#ed7953"
             ],
             [
              0.7777777777777778,
              "#fb9f3a"
             ],
             [
              0.8888888888888888,
              "#fdca26"
             ],
             [
              1,
              "#f0f921"
             ]
            ],
            "type": "surface"
           }
          ],
          "table": [
           {
            "cells": {
             "fill": {
              "color": "#EBF0F8"
             },
             "line": {
              "color": "white"
             }
            },
            "header": {
             "fill": {
              "color": "#C8D4E3"
             },
             "line": {
              "color": "white"
             }
            },
            "type": "table"
           }
          ]
         },
         "layout": {
          "annotationdefaults": {
           "arrowcolor": "#2a3f5f",
           "arrowhead": 0,
           "arrowwidth": 1
          },
          "autotypenumbers": "strict",
          "coloraxis": {
           "colorbar": {
            "outlinewidth": 0,
            "ticks": ""
           }
          },
          "colorscale": {
           "diverging": [
            [
             0,
             "#8e0152"
            ],
            [
             0.1,
             "#c51b7d"
            ],
            [
             0.2,
             "#de77ae"
            ],
            [
             0.3,
             "#f1b6da"
            ],
            [
             0.4,
             "#fde0ef"
            ],
            [
             0.5,
             "#f7f7f7"
            ],
            [
             0.6,
             "#e6f5d0"
            ],
            [
             0.7,
             "#b8e186"
            ],
            [
             0.8,
             "#7fbc41"
            ],
            [
             0.9,
             "#4d9221"
            ],
            [
             1,
             "#276419"
            ]
           ],
           "sequential": [
            [
             0,
             "#0d0887"
            ],
            [
             0.1111111111111111,
             "#46039f"
            ],
            [
             0.2222222222222222,
             "#7201a8"
            ],
            [
             0.3333333333333333,
             "#9c179e"
            ],
            [
             0.4444444444444444,
             "#bd3786"
            ],
            [
             0.5555555555555556,
             "#d8576b"
            ],
            [
             0.6666666666666666,
             "#ed7953"
            ],
            [
             0.7777777777777778,
             "#fb9f3a"
            ],
            [
             0.8888888888888888,
             "#fdca26"
            ],
            [
             1,
             "#f0f921"
            ]
           ],
           "sequentialminus": [
            [
             0,
             "#0d0887"
            ],
            [
             0.1111111111111111,
             "#46039f"
            ],
            [
             0.2222222222222222,
             "#7201a8"
            ],
            [
             0.3333333333333333,
             "#9c179e"
            ],
            [
             0.4444444444444444,
             "#bd3786"
            ],
            [
             0.5555555555555556,
             "#d8576b"
            ],
            [
             0.6666666666666666,
             "#ed7953"
            ],
            [
             0.7777777777777778,
             "#fb9f3a"
            ],
            [
             0.8888888888888888,
             "#fdca26"
            ],
            [
             1,
             "#f0f921"
            ]
           ]
          },
          "colorway": [
           "#636efa",
           "#EF553B",
           "#00cc96",
           "#ab63fa",
           "#FFA15A",
           "#19d3f3",
           "#FF6692",
           "#B6E880",
           "#FF97FF",
           "#FECB52"
          ],
          "font": {
           "color": "#2a3f5f"
          },
          "geo": {
           "bgcolor": "white",
           "lakecolor": "white",
           "landcolor": "#E5ECF6",
           "showlakes": true,
           "showland": true,
           "subunitcolor": "white"
          },
          "hoverlabel": {
           "align": "left"
          },
          "hovermode": "closest",
          "mapbox": {
           "style": "light"
          },
          "paper_bgcolor": "white",
          "plot_bgcolor": "#E5ECF6",
          "polar": {
           "angularaxis": {
            "gridcolor": "white",
            "linecolor": "white",
            "ticks": ""
           },
           "bgcolor": "#E5ECF6",
           "radialaxis": {
            "gridcolor": "white",
            "linecolor": "white",
            "ticks": ""
           }
          },
          "scene": {
           "xaxis": {
            "backgroundcolor": "#E5ECF6",
            "gridcolor": "white",
            "gridwidth": 2,
            "linecolor": "white",
            "showbackground": true,
            "ticks": "",
            "zerolinecolor": "white"
           },
           "yaxis": {
            "backgroundcolor": "#E5ECF6",
            "gridcolor": "white",
            "gridwidth": 2,
            "linecolor": "white",
            "showbackground": true,
            "ticks": "",
            "zerolinecolor": "white"
           },
           "zaxis": {
            "backgroundcolor": "#E5ECF6",
            "gridcolor": "white",
            "gridwidth": 2,
            "linecolor": "white",
            "showbackground": true,
            "ticks": "",
            "zerolinecolor": "white"
           }
          },
          "shapedefaults": {
           "line": {
            "color": "#2a3f5f"
           }
          },
          "ternary": {
           "aaxis": {
            "gridcolor": "white",
            "linecolor": "white",
            "ticks": ""
           },
           "baxis": {
            "gridcolor": "white",
            "linecolor": "white",
            "ticks": ""
           },
           "bgcolor": "#E5ECF6",
           "caxis": {
            "gridcolor": "white",
            "linecolor": "white",
            "ticks": ""
           }
          },
          "title": {
           "x": 0.05
          },
          "xaxis": {
           "automargin": true,
           "gridcolor": "white",
           "linecolor": "white",
           "ticks": "",
           "title": {
            "standoff": 15
           },
           "zerolinecolor": "white",
           "zerolinewidth": 2
          },
          "yaxis": {
           "automargin": true,
           "gridcolor": "white",
           "linecolor": "white",
           "ticks": "",
           "title": {
            "standoff": 15
           },
           "zerolinecolor": "white",
           "zerolinewidth": 2
          }
         }
        },
        "width": 1000,
        "yaxis": {
         "autorange": "reversed"
        }
       }
      },
      "text/html": [
       "<div>                            <div id=\"86afcfc8-7735-418d-9008-ea73a571cef8\" class=\"plotly-graph-div\" style=\"height:812px; width:1000px;\"></div>            <script type=\"text/javascript\">                require([\"plotly\"], function(Plotly) {                    window.PLOTLYENV=window.PLOTLYENV || {};                                    if (document.getElementById(\"86afcfc8-7735-418d-9008-ea73a571cef8\")) {                    Plotly.newPlot(                        \"86afcfc8-7735-418d-9008-ea73a571cef8\",                        [{\"colorscale\":[[0.0,\"rgb(255, 198, 196)\"],[0.16666666666666666,\"rgb(244, 163, 168)\"],[0.3333333333333333,\"rgb(227, 129, 145)\"],[0.5,\"rgb(204, 96, 125)\"],[0.6666666666666666,\"rgb(173, 70, 108)\"],[0.8333333333333334,\"rgb(139, 48, 88)\"],[1.0,\"rgb(103, 32, 68)\"]],\"customdata\":[[\"agora\",\"s\\u00f3\",\"falta\",\"voc\\u00ea\",\"um\",\"belo\",\"dia\",\"resolvi\"],[\"mudar\",\"e\",\"fazer\",\"tudo\",\"o\",\"que\",\"eu\",\"queria\"],[\"fazer\",\"me\",\"libertei\",\"daquela\",\"vida\",\"vulgar\",\"que\",\"eu\"],[\"levava\",\"estando\",\"junto\",\"a\",\"voc\\u00ea\",\"e\",\"em\",\"tudo\"],[\"que\",\"eu\",\"fa\\u00e7o\",\"existe\",\"um\",\"porqu\\u00ea\",\"eu\",\"sei\"],[\"que\",\"eu\",\"nasci\",\"sei\",\"que\",\"eu\",\"nasci\",\"pra\"],[\"saber\",\"e\",\"fui\",\"andando\",\"sem\",\"pensar\",\"em\",\"voltar\"],[\"e\",\"sem\",\"ligar\",\"pro\",\"que\",\"me\",\"aconteceu\",\"um\"],[\"belo\",\"dia\",\"vou\",\"lhe\",\"telefonar\",\"pra\",\"lhe\",\"dizer\"],[\"que\",\"aquele\",\"sonho\",\"cresceu\",\"no\",\"ar\",\"que\",\"eu\"],[\"respiro\",\"eu\",\"sinto\",\"prazer\",\"de\",\"ser\",\"quem\",\"eu\"],[\"sou\",\"de\",\"estar\",\"onde\",\"estou\",\"agora\",\"s\\u00f3\",\"falta\"],[\"voc\\u00ea\",\"yeah\",\"yeah\",\"agora\",\"s\\u00f3\",\"falta\",\"voc\\u00ea\",\"agora\"],[\"s\\u00f3\",\"falta\",\"voc\\u00ea\",\"yeah\",\"yeah\",\"agora\",\"s\\u00f3\",\"falta\"],[\"voc\\u00ea\",\"e\",\"fui\",\"andando\",\"sem\",\"pensar\",\"em\",\"voltar\"],[\"e\",\"sem\",\"ligar\",\"pro\",\"que\",\"me\",\"aconteceu\",\"um\"],[\"belo\",\"dia\",\"vou\",\"lhe\",\"telefonar\",\"pra\",\"lhe\",\"dizer\"],[\"que\",\"aquele\",\"sonho\",\"cresceu\",\"no\",\"ar\",\"que\",\"eu\"],[\"respiro\",\"eu\",\"sinto\",\"prazer\",\"de\",\"ser\",\"quem\",\"eu\"],[\"sou\",\"de\",\"estar\",\"onde\",\"estou\",\"agora\",\"s\\u00f3\",\"falta\"],[\"voc\\u00ea\",\"yeah\",\"yeah\",\"agora\",\"s\\u00f3\",\"falta\",\"voc\\u00ea\",\"agora\"],[\"s\\u00f3\",\"falta\",\"voc\\u00ea\",\"yeah\",\"yeah\",\"agora\",\"s\\u00f3\",\"falta\"],[\"voc\\u00ea\",\"agora\",\"s\\u00f3\",\"falta\",\"voc\\u00ea\",\"agora\",\"s\\u00f3\",\"falta\"],[\"voc\\u00ea\",\"agora\",\"s\\u00f3\",\"falta\",\"voc\\u00ea\",\"agora\",\"s\\u00f3\",\"falta\"],[\"voc\\u00ea\",\"\\u00e9\",\"voc\\u00ea\",\"\\u00e9\",\"voc\\u00ea\",\"\\u00e9\",\"voc\\u00ea\",\"\\u00e9\"],[\"voc\\u00ea\",\"\\u00e9\",\"voc\\u00ea\",\"\\u00e9\",\"voc\\u00ea\",\"agora\",\"s\\u00f3\",\"falta\"],[\"voc\\u00ea\",\"yeah\",\"yeah\",\"agora\",\"s\\u00f3\",\"falta\",\"voc\\u00ea\",\"agora\"],[\"s\\u00f3\",\"falta\",\"voc\\u00ea\",\"yeah\",\"yeah\",\"agora\",\"s\\u00f3\",\"falta\"],[\"voc\\u00ea\",\"\",\"\",\"\",\"\",\"\",\"\",\"\"]],\"dx\":1,\"hovertemplate\":\"%{customdata} <br><b>Score:%{z:.3f}<extra></extra>\",\"x0\":0,\"y\":[\"agora s\\u00f3 falta voc\\u00ea um belo dia resolvi                     \",\"mudar e fazer tudo o que eu queria                          \",\"fazer me libertei daquela vida vulgar que eu                \",\"levava estando junto a voc\\u00ea e em tudo                       \",\"que eu fa\\u00e7o existe um porqu\\u00ea eu sei                         \",\"que eu nasci sei que eu nasci pra                           \",\"saber e fui andando sem pensar em voltar                    \",\"e sem ligar pro que me aconteceu um                         \",\"belo dia vou lhe telefonar pra lhe dizer                    \",\"que aquele sonho cresceu no ar que eu                       \",\"respiro eu sinto prazer de ser quem eu                      \",\"sou de estar onde estou agora s\\u00f3 falta                      \",\"voc\\u00ea yeah yeah agora s\\u00f3 falta voc\\u00ea agora                    \",\"s\\u00f3 falta voc\\u00ea yeah yeah agora s\\u00f3 falta                      \",\"voc\\u00ea e fui andando sem pensar em voltar                     \",\"e sem ligar pro que me aconteceu um                         \",\"belo dia vou lhe telefonar pra lhe dizer                    \",\"que aquele sonho cresceu no ar que eu                       \",\"respiro eu sinto prazer de ser quem eu                      \",\"sou de estar onde estou agora s\\u00f3 falta                      \",\"voc\\u00ea yeah yeah agora s\\u00f3 falta voc\\u00ea agora                    \",\"s\\u00f3 falta voc\\u00ea yeah yeah agora s\\u00f3 falta                      \",\"voc\\u00ea agora s\\u00f3 falta voc\\u00ea agora s\\u00f3 falta                     \",\"voc\\u00ea agora s\\u00f3 falta voc\\u00ea agora s\\u00f3 falta                     \",\"voc\\u00ea \\u00e9 voc\\u00ea \\u00e9 voc\\u00ea \\u00e9 voc\\u00ea \\u00e9                                 \",\"voc\\u00ea \\u00e9 voc\\u00ea \\u00e9 voc\\u00ea agora s\\u00f3 falta                           \",\"voc\\u00ea yeah yeah agora s\\u00f3 falta voc\\u00ea agora                    \",\"s\\u00f3 falta voc\\u00ea yeah yeah agora s\\u00f3 falta                      \",\"voc\\u00ea                                                        \"],\"z\":[[0.7817649814338743,0.8821029058066113,0.922825972515849,0.795952718431964,0.6481269978531761,0.7093162963785844,0.7574593881870607,0.7138927645957742],[0.7692613142770522,0.8280338090355575,0.8197577043363751,0.8145761679473299,0.8325563749180399,0.8469234815275841,0.8036919640101314,0.7504374668274683],[0.782593273496658,0.8197019609035973,0.8349404833450815,0.8576360608188208,0.8728650258213186,0.8770566172113706,0.8657683209955443,0.8075734274773818],[0.7540559110774394,0.8004198934568314,0.8589283292481601,0.8704620698710468,0.8500430194421291,0.8137119439764824,0.7987358200912986,0.8102138882558411],[0.8205590988748368,0.7887100779628327,0.7501802956347429,0.7966075379344151,0.8417069696773469,0.8415871475520871,0.8376462829811522,0.8438598086091452],[0.8718120799888923,0.8472896645203893,0.7359524582756674,0.6869249496508278,0.7857512557752147,0.8285452058217166,0.7283982367202313,0.6581475355770345],[0.7344924985934802,0.8154245918142665,0.8339142304267158,0.850114616351137,0.8561101827474538,0.847877534440014,0.8460621495075231,0.8435364505377689],[0.8362278778465224,0.821407273571225,0.8285633064058617,0.851988827449254,0.8472106050854418,0.8217459444005002,0.8262744467380261,0.8522423471164613],[0.856207060851419,0.7915859087018198,0.713883591326052,0.7589346361094611,0.8247557223836813,0.8412955467291356,0.8332346557477373,0.8323394323667985],[0.8357781884761235,0.8332598410626679,0.8513350446473846,0.8705899009753111,0.8760571228542321,0.877329229700101,0.8658001218993692,0.8075497790398021],[0.7501829688415987,0.7771408717529229,0.8169092455585438,0.8453272599019557,0.8554452479916623,0.8508929247619728,0.8571218276529419,0.8492249079971992],[0.8307465934941016,0.8351385549879135,0.8455145955964966,0.8611446474300296,0.8787804785644733,0.9042441008977661,0.939867698250303,0.9184132531813273],[0.6921086137015664,0.30473824008539585,0.11851313423007052,0.2821204061434273,0.6363147384752958,0.8516545403379367,0.7898194778475545,0.6781683291034935],[0.7888991830799772,0.8837333269268115,0.6892333551700185,0.3046509317312615,0.11851313423007052,0.2820929995904626,0.6352873162240331,0.8365979396896348],[0.6908642429895969,0.3667114141993775,0.32267545126775654,0.5816774064669703,0.7836068556006393,0.8378916280871206,0.845416895970565,0.8435198659237273],[0.8362278778465224,0.821407273571225,0.8285633064058617,0.851988827449254,0.8472106050854418,0.8217459444005002,0.8262744467380261,0.8522423471164613],[0.856207060851419,0.7915859087018198,0.713883591326052,0.7589346361094611,0.8247557223836813,0.8412955467291356,0.8332346557477373,0.8323394323667985],[0.8357781884761235,0.8332598410626679,0.8513350446473846,0.8705899009753111,0.8760571228542321,0.877329229700101,0.8658001218993692,0.8075497790398021],[0.7501829688415987,0.7771408717529229,0.8169092455585438,0.8453272599019557,0.8554452479916623,0.8508929247619728,0.8571218276529419,0.8492249079971992],[0.8307465934941016,0.8351385549879135,0.8455145955964966,0.8611446474300296,0.8787804785644733,0.9042441008977661,0.939867698250303,0.9184132531813273],[0.6921086137015664,0.30473824008539585,0.11851313423007052,0.2821204061434273,0.6363147384752958,0.8516545403379367,0.7898194778475545,0.6781683291034935],[0.7888991830799772,0.8837333269268115,0.6892333551700185,0.3046509317312615,0.11851313423007052,0.2821204061434273,0.6363147384752958,0.8516545403379367],[0.7898194778475545,0.6781988436160727,0.790038179660654,0.9004252035849213,0.8004460408857325,0.6794712482001617,0.7901130878783041,0.9004269822246881],[0.8004460408857325,0.6794712482001617,0.7901130878783041,0.9004269822246881,0.8004460408857325,0.6794407336875823,0.7889810135713142,0.8839585712268982],[0.691729406499948,0.3112133971672426,0.08169012710398779,0.029805220079307145,0.026360461438821384,0.02548999730447917,0.026234140626555314,0.02548999730447917],[0.026234140626555314,0.025507431178950057,0.026927707771376836,0.036504600872832055,0.10914776301866441,0.34507693276477064,0.6939616050553885,0.8644952083263726],[0.6865211996293606,0.30446114971390614,0.11850779831077014,0.2821204061434273,0.6363147384752958,0.8516545403379367,0.7898194778475545,0.6781683291034935],[0.7888991830799772,0.8837333269268115,0.6892333551700185,0.3046509317312615,0.11851313423007052,0.282089891630848,0.6351757418946189,0.8349568951184212],[0.6783032766663225,0.2971959939309141,0.05818064505522992,0.004542678356786938,0.0001332430859530391,0.0,0.0,0.0]],\"zmax\":1,\"zmin\":0,\"type\":\"heatmap\"}],                        {\"template\":{\"data\":{\"histogram2dcontour\":[{\"type\":\"histogram2dcontour\",\"colorbar\":{\"outlinewidth\":0,\"ticks\":\"\"},\"colorscale\":[[0.0,\"#0d0887\"],[0.1111111111111111,\"#46039f\"],[0.2222222222222222,\"#7201a8\"],[0.3333333333333333,\"#9c179e\"],[0.4444444444444444,\"#bd3786\"],[0.5555555555555556,\"#d8576b\"],[0.6666666666666666,\"#ed7953\"],[0.7777777777777778,\"#fb9f3a\"],[0.8888888888888888,\"#fdca26\"],[1.0,\"#f0f921\"]]}],\"choropleth\":[{\"type\":\"choropleth\",\"colorbar\":{\"outlinewidth\":0,\"ticks\":\"\"}}],\"histogram2d\":[{\"type\":\"histogram2d\",\"colorbar\":{\"outlinewidth\":0,\"ticks\":\"\"},\"colorscale\":[[0.0,\"#0d0887\"],[0.1111111111111111,\"#46039f\"],[0.2222222222222222,\"#7201a8\"],[0.3333333333333333,\"#9c179e\"],[0.4444444444444444,\"#bd3786\"],[0.5555555555555556,\"#d8576b\"],[0.6666666666666666,\"#ed7953\"],[0.7777777777777778,\"#fb9f3a\"],[0.8888888888888888,\"#fdca26\"],[1.0,\"#f0f921\"]]}],\"heatmap\":[{\"type\":\"heatmap\",\"colorbar\":{\"outlinewidth\":0,\"ticks\":\"\"},\"colorscale\":[[0.0,\"#0d0887\"],[0.1111111111111111,\"#46039f\"],[0.2222222222222222,\"#7201a8\"],[0.3333333333333333,\"#9c179e\"],[0.4444444444444444,\"#bd3786\"],[0.5555555555555556,\"#d8576b\"],[0.6666666666666666,\"#ed7953\"],[0.7777777777777778,\"#fb9f3a\"],[0.8888888888888888,\"#fdca26\"],[1.0,\"#f0f921\"]]}],\"heatmapgl\":[{\"type\":\"heatmapgl\",\"colorbar\":{\"outlinewidth\":0,\"ticks\":\"\"},\"colorscale\":[[0.0,\"#0d0887\"],[0.1111111111111111,\"#46039f\"],[0.2222222222222222,\"#7201a8\"],[0.3333333333333333,\"#9c179e\"],[0.4444444444444444,\"#bd3786\"],[0.5555555555555556,\"#d8576b\"],[0.6666666666666666,\"#ed7953\"],[0.7777777777777778,\"#fb9f3a\"],[0.8888888888888888,\"#fdca26\"],[1.0,\"#f0f921\"]]}],\"contourcarpet\":[{\"type\":\"contourcarpet\",\"colorbar\":{\"outlinewidth\":0,\"ticks\":\"\"}}],\"contour\":[{\"type\":\"contour\",\"colorbar\":{\"outlinewidth\":0,\"ticks\":\"\"},\"colorscale\":[[0.0,\"#0d0887\"],[0.1111111111111111,\"#46039f\"],[0.2222222222222222,\"#7201a8\"],[0.3333333333333333,\"#9c179e\"],[0.4444444444444444,\"#bd3786\"],[0.5555555555555556,\"#d8576b\"],[0.6666666666666666,\"#ed7953\"],[0.7777777777777778,\"#fb9f3a\"],[0.8888888888888888,\"#fdca26\"],[1.0,\"#f0f921\"]]}],\"surface\":[{\"type\":\"surface\",\"colorbar\":{\"outlinewidth\":0,\"ticks\":\"\"},\"colorscale\":[[0.0,\"#0d0887\"],[0.1111111111111111,\"#46039f\"],[0.2222222222222222,\"#7201a8\"],[0.3333333333333333,\"#9c179e\"],[0.4444444444444444,\"#bd3786\"],[0.5555555555555556,\"#d8576b\"],[0.6666666666666666,\"#ed7953\"],[0.7777777777777778,\"#fb9f3a\"],[0.8888888888888888,\"#fdca26\"],[1.0,\"#f0f921\"]]}],\"mesh3d\":[{\"type\":\"mesh3d\",\"colorbar\":{\"outlinewidth\":0,\"ticks\":\"\"}}],\"scatter\":[{\"fillpattern\":{\"fillmode\":\"overlay\",\"size\":10,\"solidity\":0.2},\"type\":\"scatter\"}],\"parcoords\":[{\"type\":\"parcoords\",\"line\":{\"colorbar\":{\"outlinewidth\":0,\"ticks\":\"\"}}}],\"scatterpolargl\":[{\"type\":\"scatterpolargl\",\"marker\":{\"colorbar\":{\"outlinewidth\":0,\"ticks\":\"\"}}}],\"bar\":[{\"error_x\":{\"color\":\"#2a3f5f\"},\"error_y\":{\"color\":\"#2a3f5f\"},\"marker\":{\"line\":{\"color\":\"#E5ECF6\",\"width\":0.5},\"pattern\":{\"fillmode\":\"overlay\",\"size\":10,\"solidity\":0.2}},\"type\":\"bar\"}],\"scattergeo\":[{\"type\":\"scattergeo\",\"marker\":{\"colorbar\":{\"outlinewidth\":0,\"ticks\":\"\"}}}],\"scatterpolar\":[{\"type\":\"scatterpolar\",\"marker\":{\"colorbar\":{\"outlinewidth\":0,\"ticks\":\"\"}}}],\"histogram\":[{\"marker\":{\"pattern\":{\"fillmode\":\"overlay\",\"size\":10,\"solidity\":0.2}},\"type\":\"histogram\"}],\"scattergl\":[{\"type\":\"scattergl\",\"marker\":{\"colorbar\":{\"outlinewidth\":0,\"ticks\":\"\"}}}],\"scatter3d\":[{\"type\":\"scatter3d\",\"line\":{\"colorbar\":{\"outlinewidth\":0,\"ticks\":\"\"}},\"marker\":{\"colorbar\":{\"outlinewidth\":0,\"ticks\":\"\"}}}],\"scattermapbox\":[{\"type\":\"scattermapbox\",\"marker\":{\"colorbar\":{\"outlinewidth\":0,\"ticks\":\"\"}}}],\"scatterternary\":[{\"type\":\"scatterternary\",\"marker\":{\"colorbar\":{\"outlinewidth\":0,\"ticks\":\"\"}}}],\"scattercarpet\":[{\"type\":\"scattercarpet\",\"marker\":{\"colorbar\":{\"outlinewidth\":0,\"ticks\":\"\"}}}],\"carpet\":[{\"aaxis\":{\"endlinecolor\":\"#2a3f5f\",\"gridcolor\":\"white\",\"linecolor\":\"white\",\"minorgridcolor\":\"white\",\"startlinecolor\":\"#2a3f5f\"},\"baxis\":{\"endlinecolor\":\"#2a3f5f\",\"gridcolor\":\"white\",\"linecolor\":\"white\",\"minorgridcolor\":\"white\",\"startlinecolor\":\"#2a3f5f\"},\"type\":\"carpet\"}],\"table\":[{\"cells\":{\"fill\":{\"color\":\"#EBF0F8\"},\"line\":{\"color\":\"white\"}},\"header\":{\"fill\":{\"color\":\"#C8D4E3\"},\"line\":{\"color\":\"white\"}},\"type\":\"table\"}],\"barpolar\":[{\"marker\":{\"line\":{\"color\":\"#E5ECF6\",\"width\":0.5},\"pattern\":{\"fillmode\":\"overlay\",\"size\":10,\"solidity\":0.2}},\"type\":\"barpolar\"}],\"pie\":[{\"automargin\":true,\"type\":\"pie\"}]},\"layout\":{\"autotypenumbers\":\"strict\",\"colorway\":[\"#636efa\",\"#EF553B\",\"#00cc96\",\"#ab63fa\",\"#FFA15A\",\"#19d3f3\",\"#FF6692\",\"#B6E880\",\"#FF97FF\",\"#FECB52\"],\"font\":{\"color\":\"#2a3f5f\"},\"hovermode\":\"closest\",\"hoverlabel\":{\"align\":\"left\"},\"paper_bgcolor\":\"white\",\"plot_bgcolor\":\"#E5ECF6\",\"polar\":{\"bgcolor\":\"#E5ECF6\",\"angularaxis\":{\"gridcolor\":\"white\",\"linecolor\":\"white\",\"ticks\":\"\"},\"radialaxis\":{\"gridcolor\":\"white\",\"linecolor\":\"white\",\"ticks\":\"\"}},\"ternary\":{\"bgcolor\":\"#E5ECF6\",\"aaxis\":{\"gridcolor\":\"white\",\"linecolor\":\"white\",\"ticks\":\"\"},\"baxis\":{\"gridcolor\":\"white\",\"linecolor\":\"white\",\"ticks\":\"\"},\"caxis\":{\"gridcolor\":\"white\",\"linecolor\":\"white\",\"ticks\":\"\"}},\"coloraxis\":{\"colorbar\":{\"outlinewidth\":0,\"ticks\":\"\"}},\"colorscale\":{\"sequential\":[[0.0,\"#0d0887\"],[0.1111111111111111,\"#46039f\"],[0.2222222222222222,\"#7201a8\"],[0.3333333333333333,\"#9c179e\"],[0.4444444444444444,\"#bd3786\"],[0.5555555555555556,\"#d8576b\"],[0.6666666666666666,\"#ed7953\"],[0.7777777777777778,\"#fb9f3a\"],[0.8888888888888888,\"#fdca26\"],[1.0,\"#f0f921\"]],\"sequentialminus\":[[0.0,\"#0d0887\"],[0.1111111111111111,\"#46039f\"],[0.2222222222222222,\"#7201a8\"],[0.3333333333333333,\"#9c179e\"],[0.4444444444444444,\"#bd3786\"],[0.5555555555555556,\"#d8576b\"],[0.6666666666666666,\"#ed7953\"],[0.7777777777777778,\"#fb9f3a\"],[0.8888888888888888,\"#fdca26\"],[1.0,\"#f0f921\"]],\"diverging\":[[0,\"#8e0152\"],[0.1,\"#c51b7d\"],[0.2,\"#de77ae\"],[0.3,\"#f1b6da\"],[0.4,\"#fde0ef\"],[0.5,\"#f7f7f7\"],[0.6,\"#e6f5d0\"],[0.7,\"#b8e186\"],[0.8,\"#7fbc41\"],[0.9,\"#4d9221\"],[1,\"#276419\"]]},\"xaxis\":{\"gridcolor\":\"white\",\"linecolor\":\"white\",\"ticks\":\"\",\"title\":{\"standoff\":15},\"zerolinecolor\":\"white\",\"automargin\":true,\"zerolinewidth\":2},\"yaxis\":{\"gridcolor\":\"white\",\"linecolor\":\"white\",\"ticks\":\"\",\"title\":{\"standoff\":15},\"zerolinecolor\":\"white\",\"automargin\":true,\"zerolinewidth\":2},\"scene\":{\"xaxis\":{\"backgroundcolor\":\"#E5ECF6\",\"gridcolor\":\"white\",\"linecolor\":\"white\",\"showbackground\":true,\"ticks\":\"\",\"zerolinecolor\":\"white\",\"gridwidth\":2},\"yaxis\":{\"backgroundcolor\":\"#E5ECF6\",\"gridcolor\":\"white\",\"linecolor\":\"white\",\"showbackground\":true,\"ticks\":\"\",\"zerolinecolor\":\"white\",\"gridwidth\":2},\"zaxis\":{\"backgroundcolor\":\"#E5ECF6\",\"gridcolor\":\"white\",\"linecolor\":\"white\",\"showbackground\":true,\"ticks\":\"\",\"zerolinecolor\":\"white\",\"gridwidth\":2}},\"shapedefaults\":{\"line\":{\"color\":\"#2a3f5f\"}},\"annotationdefaults\":{\"arrowcolor\":\"#2a3f5f\",\"arrowhead\":0,\"arrowwidth\":1},\"geo\":{\"bgcolor\":\"white\",\"landcolor\":\"#E5ECF6\",\"subunitcolor\":\"white\",\"showland\":true,\"showlakes\":true,\"lakecolor\":\"white\"},\"title\":{\"x\":0.05},\"mapbox\":{\"style\":\"light\"}}},\"font\":{\"family\":\"Courier New\"},\"height\":812,\"width\":1000,\"yaxis\":{\"autorange\":\"reversed\"}},                        {\"responsive\": true}                    ).then(function(){\n",
       "                            \n",
       "var gd = document.getElementById('86afcfc8-7735-418d-9008-ea73a571cef8');\n",
       "var x = new MutationObserver(function (mutations, observer) {{\n",
       "        var display = window.getComputedStyle(gd).display;\n",
       "        if (!display || display === 'none') {{\n",
       "            console.log([gd, 'removed!']);\n",
       "            Plotly.purge(gd);\n",
       "            observer.disconnect();\n",
       "        }}\n",
       "}});\n",
       "\n",
       "// Listen for the removal of the full notebook cells\n",
       "var notebookContainer = gd.closest('#notebook-container');\n",
       "if (notebookContainer) {{\n",
       "    x.observe(notebookContainer, {childList: true});\n",
       "}}\n",
       "\n",
       "// Listen for the clearing of the current output cell\n",
       "var outputEl = gd.closest('.output');\n",
       "if (outputEl) {{\n",
       "    x.observe(outputEl, {childList: true});\n",
       "}}\n",
       "\n",
       "                        })                };                });            </script>        </div>"
      ]
     },
     "metadata": {},
     "output_type": "display_data"
    }
   ],
   "source": [
    "# create heatmap\n",
    "fig = go.Figure(data=go.Heatmap(\n",
    "                z=a, x0=0, dx=1,\n",
    "                y=labels, zmin=0, zmax=1,\n",
    "                customdata=labels_individual,\n",
    "                hovertemplate='%{customdata} <br><b>Score:%{z:.3f}<extra></extra>',\n",
    "                colorscale=\"burg\"))\n",
    "fig.update_layout({\"height\":height*28, \"width\":1000, \"font\":{\"family\":\"Courier New\"}})\n",
    "fig['layout']['yaxis']['autorange'] = \"reversed\"\n",
    "fig.show()"
   ]
  },
  {
   "cell_type": "code",
   "execution_count": null,
   "id": "0656721c",
   "metadata": {},
   "outputs": [],
   "source": []
  },
  {
   "cell_type": "code",
   "execution_count": null,
   "id": "dacbf7f3",
   "metadata": {},
   "outputs": [],
   "source": []
  }
 ],
 "metadata": {
  "kernelspec": {
   "display_name": "Python 3 (ipykernel)",
   "language": "python",
   "name": "python3"
  },
  "language_info": {
   "codemirror_mode": {
    "name": "ipython",
    "version": 3
   },
   "file_extension": ".py",
   "mimetype": "text/x-python",
   "name": "python",
   "nbconvert_exporter": "python",
   "pygments_lexer": "ipython3",
   "version": "3.10.9"
  }
 },
 "nbformat": 4,
 "nbformat_minor": 5
}
