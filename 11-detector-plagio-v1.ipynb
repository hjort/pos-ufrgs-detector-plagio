{
 "cells": [
  {
   "cell_type": "markdown",
   "id": "4c574b07",
   "metadata": {},
   "source": [
    "# Detector de plágio em composição musical"
   ]
  },
  {
   "cell_type": "markdown",
   "id": "651caa3e",
   "metadata": {},
   "source": [
    "### Referências\n",
    "\n",
    "https://www.kaggle.com/code/eslamreda0101/plagirism-checker-using-scikit-learn-ml\n",
    "\n",
    "https://www.kaggle.com/code/fanbyprinciple/detecting-plagiarism-in-text"
   ]
  },
  {
   "cell_type": "code",
   "execution_count": 1,
   "id": "636c7d01",
   "metadata": {},
   "outputs": [],
   "source": [
    "import os\n",
    "import glob\n",
    "\n",
    "import numpy as np\n",
    "import pandas as pd\n",
    "\n",
    "from numpy import vectorize\n",
    "from sklearn.feature_extraction.text import TfidfVectorizer\n",
    "from sklearn.metrics.pairwise import cosine_similarity"
   ]
  },
  {
   "cell_type": "code",
   "execution_count": 2,
   "id": "67651414",
   "metadata": {},
   "outputs": [],
   "source": [
    "pd.set_option('max_colwidth', None)"
   ]
  },
  {
   "cell_type": "markdown",
   "id": "64afceae",
   "metadata": {},
   "source": [
    "## Efetuar leitura das letras musicais"
   ]
  },
  {
   "cell_type": "code",
   "execution_count": 154,
   "id": "7dae8692",
   "metadata": {},
   "outputs": [],
   "source": [
    "#!tar xzf musicas.tgz\n",
    "#!ls -R musicas"
   ]
  },
  {
   "cell_type": "code",
   "execution_count": 98,
   "id": "963193c7",
   "metadata": {},
   "outputs": [],
   "source": [
    "dir_raiz = \"musicas\""
   ]
  },
  {
   "cell_type": "code",
   "execution_count": 99,
   "id": "b71a9556",
   "metadata": {},
   "outputs": [
    {
     "data": {
      "text/plain": [
       "['wesley-safadao', 'latino', 'rita-lee', 'pitty', 'mano-walter']"
      ]
     },
     "execution_count": 99,
     "metadata": {},
     "output_type": "execute_result"
    }
   ],
   "source": [
    "bandas = os.listdir(dir_raiz)\n",
    "bandas"
   ]
  },
  {
   "cell_type": "code",
   "execution_count": 100,
   "id": "966d9ee9",
   "metadata": {},
   "outputs": [],
   "source": [
    "sample_files = glob.glob(dir_raiz + \"/*/*.txt\")\n",
    "sample_contents = [open(File).read() for File in sample_files]"
   ]
  },
  {
   "cell_type": "code",
   "execution_count": 101,
   "id": "27610252",
   "metadata": {},
   "outputs": [
    {
     "data": {
      "text/plain": [
       "1000"
      ]
     },
     "execution_count": 101,
     "metadata": {},
     "output_type": "execute_result"
    }
   ],
   "source": [
    "%%script true # comentar essa linha para fazer leitura parcial dos textos\n",
    "qtd_limite = 1000\n",
    "sample_files = sample_files[:qtd_limite]\n",
    "len(sample_files)"
   ]
  },
  {
   "cell_type": "code",
   "execution_count": 102,
   "id": "d9c2ec88",
   "metadata": {},
   "outputs": [
    {
     "data": {
      "text/plain": [
       "['musicas/wesley-safadao/989577.txt',\n",
       " 'musicas/wesley-safadao/depende-part-dj-guga-e-ze-felipe.txt',\n",
       " 'musicas/wesley-safadao/parado-no-bailao.txt',\n",
       " 'musicas/wesley-safadao/vou-dar-virote.txt',\n",
       " 'musicas/wesley-safadao/saudade-nivel-hard.txt',\n",
       " 'musicas/wesley-safadao/vamos-falar-de-amor-part-mara-pavanelly.txt',\n",
       " 'musicas/wesley-safadao/vai-la.txt',\n",
       " 'musicas/wesley-safadao/1837730.txt',\n",
       " 'musicas/wesley-safadao/o-cara-errado.txt',\n",
       " 'musicas/wesley-safadao/veja-so-no-que-deu.txt']"
      ]
     },
     "execution_count": 102,
     "metadata": {},
     "output_type": "execute_result"
    }
   ],
   "source": [
    "sample_files[:10]"
   ]
  },
  {
   "cell_type": "markdown",
   "id": "d9989a05",
   "metadata": {},
   "source": [
    "## Realizar vetorização dos textos"
   ]
  },
  {
   "cell_type": "code",
   "execution_count": 155,
   "id": "4159bb5a",
   "metadata": {},
   "outputs": [],
   "source": [
    "#vectorize = lambda text: TfidfVectorizer(stop_words=stopwords).fit_transform(text).toarray()\n",
    "vectorize = lambda text: TfidfVectorizer().fit_transform(text).toarray()"
   ]
  },
  {
   "cell_type": "code",
   "execution_count": 156,
   "id": "10a03fce",
   "metadata": {},
   "outputs": [],
   "source": [
    "similarity = lambda doc1, doc2: cosine_similarity([doc1, doc2])"
   ]
  },
  {
   "cell_type": "code",
   "execution_count": 157,
   "id": "544cc317",
   "metadata": {},
   "outputs": [],
   "source": [
    "vectors = vectorize(sample_contents)"
   ]
  },
  {
   "cell_type": "code",
   "execution_count": 158,
   "id": "b2ccb80e",
   "metadata": {},
   "outputs": [],
   "source": [
    "s_vectors = list(zip(sample_files, vectors))"
   ]
  },
  {
   "cell_type": "code",
   "execution_count": 159,
   "id": "32a24410",
   "metadata": {},
   "outputs": [
    {
     "data": {
      "text/plain": [
       "[('musicas/wesley-safadao/989577.txt', array([0., 0., 0., ..., 0., 0., 0.])),\n",
       " ('musicas/wesley-safadao/depende-part-dj-guga-e-ze-felipe.txt',\n",
       "  array([0.        , 0.        , 0.        , ..., 0.        , 0.        ,\n",
       "         0.13661995]))]"
      ]
     },
     "execution_count": 159,
     "metadata": {},
     "output_type": "execute_result"
    }
   ],
   "source": [
    "s_vectors[:2]"
   ]
  },
  {
   "cell_type": "markdown",
   "id": "a20dde31",
   "metadata": {},
   "source": [
    "## Calcular similaridades entre as letras musicais"
   ]
  },
  {
   "cell_type": "code",
   "execution_count": 116,
   "id": "9fe5cb2e",
   "metadata": {},
   "outputs": [
    {
     "name": "stdout",
     "output_type": "stream",
     "text": [
      "CPU times: user 8min 14s, sys: 3.3 s, total: 8min 18s\n",
      "Wall time: 2min 4s\n"
     ]
    }
   ],
   "source": [
    "%%time\n",
    "pairs = set()\n",
    "results = set()\n",
    "\n",
    "# varrer as letras em um produto cartesiano\n",
    "for sample_a, text_vector_a in s_vectors:\n",
    "    for sample_b, text_vector_b in s_vectors:\n",
    "        \n",
    "        # ignorar se for o mesmo\n",
    "        if sample_a == sample_b:\n",
    "            continue\n",
    "        \n",
    "        sample_pair = sorted((sample_a, sample_b))\n",
    "        pair_names = ';'.join(sample_pair)\n",
    "        \n",
    "        # ignorar se o par já tiver sido incluído\n",
    "        if pair_names in pairs:\n",
    "            continue\n",
    "        pairs.add(pair_names)\n",
    "        \n",
    "        # calcular similaridade e incluir no resultado\n",
    "        sim_score = similarity(text_vector_a, text_vector_b)[0][1]\n",
    "        score = sample_pair[0], sample_pair[1], \\\n",
    "                np.count_nonzero(text_vector_a), \\\n",
    "                np.count_nonzero(text_vector_b), \\\n",
    "                sim_score\n",
    "        results.add(score)"
   ]
  },
  {
   "cell_type": "code",
   "execution_count": 160,
   "id": "886b65d7",
   "metadata": {},
   "outputs": [],
   "source": [
    "# gerar dataframe consolidado com as comparações\n",
    "\n",
    "df = pd.DataFrame(results, columns=[\n",
    "    'Musica1', 'Musica2', 'Tokens1', 'Tokens2', 'Similaridade']).round(3)\n",
    "df['PercTokens'] = (df['Tokens1'] / df['Tokens2']).round(2)\n",
    "\n",
    "obter_artista = lambda x: x.split('/')[1]\n",
    "df['Artista1'] = df['Musica1'].apply(obter_artista)\n",
    "df['Artista2'] = df['Musica2'].apply(obter_artista)\n",
    "\n",
    "obter_musica = lambda x: x.split('/')[2].split('.txt')[0]\n",
    "df['Musica1'] = df['Musica1'].apply(obter_musica)\n",
    "df['Musica2'] = df['Musica2'].apply(obter_musica)\n",
    "\n",
    "df = df[['Artista1', 'Artista2', 'Musica1', 'Musica2', \n",
    "         'Tokens1', 'Tokens2', 'PercTokens', 'Similaridade'\n",
    "        ]].sort_values('Similaridade', ascending=False)"
   ]
  },
  {
   "cell_type": "code",
   "execution_count": 161,
   "id": "0edbeb37",
   "metadata": {},
   "outputs": [],
   "source": [
    "#!pip install -q pyarrow"
   ]
  },
  {
   "cell_type": "code",
   "execution_count": 162,
   "id": "b6903f8c",
   "metadata": {},
   "outputs": [],
   "source": [
    "# gravar o dataframe em formato binário\n",
    "#df.to_parquet('df.parquet.gz', compression='gzip')"
   ]
  },
  {
   "cell_type": "code",
   "execution_count": 163,
   "id": "8a4e6d87",
   "metadata": {},
   "outputs": [],
   "source": [
    "# ler dataframe previamente gerado\n",
    "#df = pd.read_parquet('df.parquet.gz')"
   ]
  },
  {
   "cell_type": "code",
   "execution_count": 164,
   "id": "37c60206",
   "metadata": {},
   "outputs": [
    {
     "data": {
      "text/html": [
       "<div>\n",
       "<style scoped>\n",
       "    .dataframe tbody tr th:only-of-type {\n",
       "        vertical-align: middle;\n",
       "    }\n",
       "\n",
       "    .dataframe tbody tr th {\n",
       "        vertical-align: top;\n",
       "    }\n",
       "\n",
       "    .dataframe thead th {\n",
       "        text-align: right;\n",
       "    }\n",
       "</style>\n",
       "<table border=\"1\" class=\"dataframe\">\n",
       "  <thead>\n",
       "    <tr style=\"text-align: right;\">\n",
       "      <th></th>\n",
       "      <th>Artista1</th>\n",
       "      <th>Artista2</th>\n",
       "      <th>Musica1</th>\n",
       "      <th>Musica2</th>\n",
       "      <th>Tokens1</th>\n",
       "      <th>Tokens2</th>\n",
       "      <th>PercTokens</th>\n",
       "      <th>Similaridade</th>\n",
       "    </tr>\n",
       "  </thead>\n",
       "  <tbody>\n",
       "    <tr>\n",
       "      <th>239933</th>\n",
       "      <td>latino</td>\n",
       "      <td>wesley-safadao</td>\n",
       "      <td>1745377</td>\n",
       "      <td>festa-na-piscina</td>\n",
       "      <td>57</td>\n",
       "      <td>57</td>\n",
       "      <td>1.00</td>\n",
       "      <td>1.000</td>\n",
       "    </tr>\n",
       "    <tr>\n",
       "      <th>18886</th>\n",
       "      <td>wesley-safadao</td>\n",
       "      <td>wesley-safadao</td>\n",
       "      <td>2003669</td>\n",
       "      <td>ei-olha-o-som-empinadinha</td>\n",
       "      <td>33</td>\n",
       "      <td>30</td>\n",
       "      <td>1.10</td>\n",
       "      <td>0.999</td>\n",
       "    </tr>\n",
       "    <tr>\n",
       "      <th>402823</th>\n",
       "      <td>latino</td>\n",
       "      <td>latino</td>\n",
       "      <td>james-bom-de-cama-part-rionegro-e-solimoes</td>\n",
       "      <td>james-bom-de-cama</td>\n",
       "      <td>60</td>\n",
       "      <td>63</td>\n",
       "      <td>0.95</td>\n",
       "      <td>0.998</td>\n",
       "    </tr>\n",
       "    <tr>\n",
       "      <th>343800</th>\n",
       "      <td>latino</td>\n",
       "      <td>latino</td>\n",
       "      <td>831550</td>\n",
       "      <td>964806</td>\n",
       "      <td>34</td>\n",
       "      <td>36</td>\n",
       "      <td>0.94</td>\n",
       "      <td>0.994</td>\n",
       "    </tr>\n",
       "    <tr>\n",
       "      <th>119040</th>\n",
       "      <td>latino</td>\n",
       "      <td>latino</td>\n",
       "      <td>1743242</td>\n",
       "      <td>coelinha</td>\n",
       "      <td>54</td>\n",
       "      <td>58</td>\n",
       "      <td>0.93</td>\n",
       "      <td>0.994</td>\n",
       "    </tr>\n",
       "    <tr>\n",
       "      <th>...</th>\n",
       "      <td>...</td>\n",
       "      <td>...</td>\n",
       "      <td>...</td>\n",
       "      <td>...</td>\n",
       "      <td>...</td>\n",
       "      <td>...</td>\n",
       "      <td>...</td>\n",
       "      <td>...</td>\n",
       "    </tr>\n",
       "    <tr>\n",
       "      <th>378105</th>\n",
       "      <td>wesley-safadao</td>\n",
       "      <td>wesley-safadao</td>\n",
       "      <td>908112</td>\n",
       "      <td>lendas-e-misterios</td>\n",
       "      <td>67</td>\n",
       "      <td>19</td>\n",
       "      <td>3.53</td>\n",
       "      <td>0.000</td>\n",
       "    </tr>\n",
       "    <tr>\n",
       "      <th>378091</th>\n",
       "      <td>wesley-safadao</td>\n",
       "      <td>wesley-safadao</td>\n",
       "      <td>358920</td>\n",
       "      <td>bumbum-no-chao</td>\n",
       "      <td>27</td>\n",
       "      <td>25</td>\n",
       "      <td>1.08</td>\n",
       "      <td>0.000</td>\n",
       "    </tr>\n",
       "    <tr>\n",
       "      <th>92511</th>\n",
       "      <td>wesley-safadao</td>\n",
       "      <td>wesley-safadao</td>\n",
       "      <td>803624</td>\n",
       "      <td>bora</td>\n",
       "      <td>25</td>\n",
       "      <td>26</td>\n",
       "      <td>0.96</td>\n",
       "      <td>0.000</td>\n",
       "    </tr>\n",
       "    <tr>\n",
       "      <th>92513</th>\n",
       "      <td>latino</td>\n",
       "      <td>wesley-safadao</td>\n",
       "      <td>1038820</td>\n",
       "      <td>1600534</td>\n",
       "      <td>24</td>\n",
       "      <td>39</td>\n",
       "      <td>0.62</td>\n",
       "      <td>0.000</td>\n",
       "    </tr>\n",
       "    <tr>\n",
       "      <th>108100</th>\n",
       "      <td>latino</td>\n",
       "      <td>wesley-safadao</td>\n",
       "      <td>1354315</td>\n",
       "      <td>sou-eu</td>\n",
       "      <td>38</td>\n",
       "      <td>89</td>\n",
       "      <td>0.43</td>\n",
       "      <td>0.000</td>\n",
       "    </tr>\n",
       "  </tbody>\n",
       "</table>\n",
       "<p>499500 rows × 8 columns</p>\n",
       "</div>"
      ],
      "text/plain": [
       "              Artista1        Artista2  \\\n",
       "239933          latino  wesley-safadao   \n",
       "18886   wesley-safadao  wesley-safadao   \n",
       "402823          latino          latino   \n",
       "343800          latino          latino   \n",
       "119040          latino          latino   \n",
       "...                ...             ...   \n",
       "378105  wesley-safadao  wesley-safadao   \n",
       "378091  wesley-safadao  wesley-safadao   \n",
       "92511   wesley-safadao  wesley-safadao   \n",
       "92513           latino  wesley-safadao   \n",
       "108100          latino  wesley-safadao   \n",
       "\n",
       "                                           Musica1                    Musica2  \\\n",
       "239933                                     1745377           festa-na-piscina   \n",
       "18886                                      2003669  ei-olha-o-som-empinadinha   \n",
       "402823  james-bom-de-cama-part-rionegro-e-solimoes          james-bom-de-cama   \n",
       "343800                                      831550                     964806   \n",
       "119040                                     1743242                   coelinha   \n",
       "...                                            ...                        ...   \n",
       "378105                                      908112         lendas-e-misterios   \n",
       "378091                                      358920             bumbum-no-chao   \n",
       "92511                                       803624                       bora   \n",
       "92513                                      1038820                    1600534   \n",
       "108100                                     1354315                     sou-eu   \n",
       "\n",
       "        Tokens1  Tokens2  PercTokens  Similaridade  \n",
       "239933       57       57        1.00         1.000  \n",
       "18886        33       30        1.10         0.999  \n",
       "402823       60       63        0.95         0.998  \n",
       "343800       34       36        0.94         0.994  \n",
       "119040       54       58        0.93         0.994  \n",
       "...         ...      ...         ...           ...  \n",
       "378105       67       19        3.53         0.000  \n",
       "378091       27       25        1.08         0.000  \n",
       "92511        25       26        0.96         0.000  \n",
       "92513        24       39        0.62         0.000  \n",
       "108100       38       89        0.43         0.000  \n",
       "\n",
       "[499500 rows x 8 columns]"
      ]
     },
     "execution_count": 164,
     "metadata": {},
     "output_type": "execute_result"
    }
   ],
   "source": [
    "df"
   ]
  },
  {
   "cell_type": "markdown",
   "id": "77cb7d9f",
   "metadata": {},
   "source": [
    "## Analisar comparações entre as letras"
   ]
  },
  {
   "cell_type": "markdown",
   "id": "229dc140",
   "metadata": {},
   "source": [
    "### Similaridade entre artistas distintos"
   ]
  },
  {
   "cell_type": "code",
   "execution_count": 165,
   "id": "87dee7b1",
   "metadata": {},
   "outputs": [
    {
     "data": {
      "text/html": [
       "<div>\n",
       "<style scoped>\n",
       "    .dataframe tbody tr th:only-of-type {\n",
       "        vertical-align: middle;\n",
       "    }\n",
       "\n",
       "    .dataframe tbody tr th {\n",
       "        vertical-align: top;\n",
       "    }\n",
       "\n",
       "    .dataframe thead tr th {\n",
       "        text-align: left;\n",
       "    }\n",
       "\n",
       "    .dataframe thead tr:last-of-type th {\n",
       "        text-align: right;\n",
       "    }\n",
       "</style>\n",
       "<table border=\"1\" class=\"dataframe\">\n",
       "  <thead>\n",
       "    <tr>\n",
       "      <th></th>\n",
       "      <th></th>\n",
       "      <th colspan=\"6\" halign=\"left\">Similaridade</th>\n",
       "    </tr>\n",
       "    <tr>\n",
       "      <th></th>\n",
       "      <th></th>\n",
       "      <th>min</th>\n",
       "      <th>max</th>\n",
       "      <th>mean</th>\n",
       "      <th>std</th>\n",
       "      <th>median</th>\n",
       "      <th>count</th>\n",
       "    </tr>\n",
       "    <tr>\n",
       "      <th>Artista1</th>\n",
       "      <th>Artista2</th>\n",
       "      <th></th>\n",
       "      <th></th>\n",
       "      <th></th>\n",
       "      <th></th>\n",
       "      <th></th>\n",
       "      <th></th>\n",
       "    </tr>\n",
       "  </thead>\n",
       "  <tbody>\n",
       "    <tr>\n",
       "      <th rowspan=\"2\" valign=\"top\">latino</th>\n",
       "      <th>rita-lee</th>\n",
       "      <td>0.54</td>\n",
       "      <td>0.54</td>\n",
       "      <td>0.54</td>\n",
       "      <td>NaN</td>\n",
       "      <td>0.54</td>\n",
       "      <td>1</td>\n",
       "    </tr>\n",
       "    <tr>\n",
       "      <th>wesley-safadao</th>\n",
       "      <td>0.50</td>\n",
       "      <td>1.00</td>\n",
       "      <td>0.72</td>\n",
       "      <td>0.18</td>\n",
       "      <td>0.64</td>\n",
       "      <td>24</td>\n",
       "    </tr>\n",
       "    <tr>\n",
       "      <th>rita-lee</th>\n",
       "      <th>wesley-safadao</th>\n",
       "      <td>0.50</td>\n",
       "      <td>0.60</td>\n",
       "      <td>0.55</td>\n",
       "      <td>0.07</td>\n",
       "      <td>0.55</td>\n",
       "      <td>2</td>\n",
       "    </tr>\n",
       "  </tbody>\n",
       "</table>\n",
       "</div>"
      ],
      "text/plain": [
       "                        Similaridade                               \n",
       "                                 min   max  mean   std median count\n",
       "Artista1 Artista2                                                  \n",
       "latino   rita-lee               0.54  0.54  0.54   NaN   0.54     1\n",
       "         wesley-safadao         0.50  1.00  0.72  0.18   0.64    24\n",
       "rita-lee wesley-safadao         0.50  0.60  0.55  0.07   0.55     2"
      ]
     },
     "execution_count": 165,
     "metadata": {},
     "output_type": "execute_result"
    }
   ],
   "source": [
    "df[(df['Artista1'] != df['Artista2']) & (df[\"Similaridade\"] >= 0.5)].\\\n",
    "  groupby(['Artista1', 'Artista2']).\\\n",
    "  agg({'Similaridade': ['min', 'max', 'mean', 'std', 'median', 'count']}).\\\n",
    "  round(2)"
   ]
  },
  {
   "cell_type": "markdown",
   "id": "98b60186",
   "metadata": {},
   "source": [
    "### Similaridade no mesmo artista"
   ]
  },
  {
   "cell_type": "code",
   "execution_count": 166,
   "id": "c93615ec",
   "metadata": {},
   "outputs": [
    {
     "data": {
      "text/html": [
       "<div>\n",
       "<style scoped>\n",
       "    .dataframe tbody tr th:only-of-type {\n",
       "        vertical-align: middle;\n",
       "    }\n",
       "\n",
       "    .dataframe tbody tr th {\n",
       "        vertical-align: top;\n",
       "    }\n",
       "\n",
       "    .dataframe thead tr th {\n",
       "        text-align: left;\n",
       "    }\n",
       "\n",
       "    .dataframe thead tr:last-of-type th {\n",
       "        text-align: right;\n",
       "    }\n",
       "</style>\n",
       "<table border=\"1\" class=\"dataframe\">\n",
       "  <thead>\n",
       "    <tr>\n",
       "      <th></th>\n",
       "      <th colspan=\"6\" halign=\"left\">Similaridade</th>\n",
       "    </tr>\n",
       "    <tr>\n",
       "      <th></th>\n",
       "      <th>min</th>\n",
       "      <th>max</th>\n",
       "      <th>mean</th>\n",
       "      <th>std</th>\n",
       "      <th>median</th>\n",
       "      <th>count</th>\n",
       "    </tr>\n",
       "    <tr>\n",
       "      <th>Artista1</th>\n",
       "      <th></th>\n",
       "      <th></th>\n",
       "      <th></th>\n",
       "      <th></th>\n",
       "      <th></th>\n",
       "      <th></th>\n",
       "    </tr>\n",
       "  </thead>\n",
       "  <tbody>\n",
       "    <tr>\n",
       "      <th>latino</th>\n",
       "      <td>0.0</td>\n",
       "      <td>1.00</td>\n",
       "      <td>0.02</td>\n",
       "      <td>0.04</td>\n",
       "      <td>0.01</td>\n",
       "      <td>14196</td>\n",
       "    </tr>\n",
       "    <tr>\n",
       "      <th>rita-lee</th>\n",
       "      <td>0.0</td>\n",
       "      <td>0.15</td>\n",
       "      <td>0.01</td>\n",
       "      <td>0.02</td>\n",
       "      <td>0.00</td>\n",
       "      <td>528</td>\n",
       "    </tr>\n",
       "    <tr>\n",
       "      <th>wesley-safadao</th>\n",
       "      <td>0.0</td>\n",
       "      <td>1.00</td>\n",
       "      <td>0.03</td>\n",
       "      <td>0.03</td>\n",
       "      <td>0.02</td>\n",
       "      <td>318003</td>\n",
       "    </tr>\n",
       "  </tbody>\n",
       "</table>\n",
       "</div>"
      ],
      "text/plain": [
       "               Similaridade                                 \n",
       "                        min   max  mean   std median   count\n",
       "Artista1                                                    \n",
       "latino                  0.0  1.00  0.02  0.04   0.01   14196\n",
       "rita-lee                0.0  0.15  0.01  0.02   0.00     528\n",
       "wesley-safadao          0.0  1.00  0.03  0.03   0.02  318003"
      ]
     },
     "execution_count": 166,
     "metadata": {},
     "output_type": "execute_result"
    }
   ],
   "source": [
    "df[(df['Artista1'] == df['Artista2'])].\\\n",
    "  groupby(['Artista1']).\\\n",
    "  agg({'Similaridade': ['min', 'max', 'mean', 'std', 'median', 'count']}).\\\n",
    "  round(2)"
   ]
  },
  {
   "cell_type": "markdown",
   "id": "78e293c4",
   "metadata": {},
   "source": [
    "### Letras musicais mais similares"
   ]
  },
  {
   "cell_type": "code",
   "execution_count": 167,
   "id": "587d43a7",
   "metadata": {},
   "outputs": [
    {
     "data": {
      "text/html": [
       "<div>\n",
       "<style scoped>\n",
       "    .dataframe tbody tr th:only-of-type {\n",
       "        vertical-align: middle;\n",
       "    }\n",
       "\n",
       "    .dataframe tbody tr th {\n",
       "        vertical-align: top;\n",
       "    }\n",
       "\n",
       "    .dataframe thead th {\n",
       "        text-align: right;\n",
       "    }\n",
       "</style>\n",
       "<table border=\"1\" class=\"dataframe\">\n",
       "  <thead>\n",
       "    <tr style=\"text-align: right;\">\n",
       "      <th></th>\n",
       "      <th>Artista1</th>\n",
       "      <th>Artista2</th>\n",
       "      <th>Musica1</th>\n",
       "      <th>Musica2</th>\n",
       "      <th>Tokens1</th>\n",
       "      <th>Tokens2</th>\n",
       "      <th>PercTokens</th>\n",
       "      <th>Similaridade</th>\n",
       "    </tr>\n",
       "  </thead>\n",
       "  <tbody>\n",
       "    <tr>\n",
       "      <th>141012</th>\n",
       "      <td>wesley-safadao</td>\n",
       "      <td>wesley-safadao</td>\n",
       "      <td>1106034</td>\n",
       "      <td>beber-e-paquerar-part-rai-saia-rodada</td>\n",
       "      <td>27</td>\n",
       "      <td>30</td>\n",
       "      <td>0.90</td>\n",
       "      <td>0.947</td>\n",
       "    </tr>\n",
       "    <tr>\n",
       "      <th>256695</th>\n",
       "      <td>latino</td>\n",
       "      <td>latino</td>\n",
       "      <td>1816211</td>\n",
       "      <td>beber-deitado</td>\n",
       "      <td>35</td>\n",
       "      <td>34</td>\n",
       "      <td>1.03</td>\n",
       "      <td>0.946</td>\n",
       "    </tr>\n",
       "    <tr>\n",
       "      <th>224465</th>\n",
       "      <td>latino</td>\n",
       "      <td>wesley-safadao</td>\n",
       "      <td>1956598</td>\n",
       "      <td>1973034</td>\n",
       "      <td>58</td>\n",
       "      <td>61</td>\n",
       "      <td>0.95</td>\n",
       "      <td>0.944</td>\n",
       "    </tr>\n",
       "    <tr>\n",
       "      <th>260542</th>\n",
       "      <td>wesley-safadao</td>\n",
       "      <td>wesley-safadao</td>\n",
       "      <td>despedida</td>\n",
       "      <td>na-despedida</td>\n",
       "      <td>50</td>\n",
       "      <td>52</td>\n",
       "      <td>0.96</td>\n",
       "      <td>0.944</td>\n",
       "    </tr>\n",
       "    <tr>\n",
       "      <th>391772</th>\n",
       "      <td>latino</td>\n",
       "      <td>latino</td>\n",
       "      <td>101927</td>\n",
       "      <td>me-leva-2017-ao-vivo-part-caio-giovani</td>\n",
       "      <td>89</td>\n",
       "      <td>40</td>\n",
       "      <td>2.22</td>\n",
       "      <td>0.934</td>\n",
       "    </tr>\n",
       "    <tr>\n",
       "      <th>111041</th>\n",
       "      <td>latino</td>\n",
       "      <td>latino</td>\n",
       "      <td>205187</td>\n",
       "      <td>mel-da-sua-boca</td>\n",
       "      <td>40</td>\n",
       "      <td>42</td>\n",
       "      <td>0.95</td>\n",
       "      <td>0.931</td>\n",
       "    </tr>\n",
       "    <tr>\n",
       "      <th>213559</th>\n",
       "      <td>latino</td>\n",
       "      <td>latino</td>\n",
       "      <td>1278158</td>\n",
       "      <td>amor-de-estudante</td>\n",
       "      <td>61</td>\n",
       "      <td>60</td>\n",
       "      <td>1.02</td>\n",
       "      <td>0.927</td>\n",
       "    </tr>\n",
       "    <tr>\n",
       "      <th>255573</th>\n",
       "      <td>latino</td>\n",
       "      <td>wesley-safadao</td>\n",
       "      <td>festa-na-piscina</td>\n",
       "      <td>festa-na-piscina</td>\n",
       "      <td>57</td>\n",
       "      <td>62</td>\n",
       "      <td>0.92</td>\n",
       "      <td>0.916</td>\n",
       "    </tr>\n",
       "    <tr>\n",
       "      <th>179610</th>\n",
       "      <td>latino</td>\n",
       "      <td>latino</td>\n",
       "      <td>1745377</td>\n",
       "      <td>festa-na-piscina</td>\n",
       "      <td>57</td>\n",
       "      <td>62</td>\n",
       "      <td>0.92</td>\n",
       "      <td>0.916</td>\n",
       "    </tr>\n",
       "    <tr>\n",
       "      <th>342</th>\n",
       "      <td>wesley-safadao</td>\n",
       "      <td>wesley-safadao</td>\n",
       "      <td>1616936</td>\n",
       "      <td>920111</td>\n",
       "      <td>26</td>\n",
       "      <td>28</td>\n",
       "      <td>0.93</td>\n",
       "      <td>0.913</td>\n",
       "    </tr>\n",
       "  </tbody>\n",
       "</table>\n",
       "</div>"
      ],
      "text/plain": [
       "              Artista1        Artista2           Musica1  \\\n",
       "141012  wesley-safadao  wesley-safadao           1106034   \n",
       "256695          latino          latino           1816211   \n",
       "224465          latino  wesley-safadao           1956598   \n",
       "260542  wesley-safadao  wesley-safadao         despedida   \n",
       "391772          latino          latino            101927   \n",
       "111041          latino          latino            205187   \n",
       "213559          latino          latino           1278158   \n",
       "255573          latino  wesley-safadao  festa-na-piscina   \n",
       "179610          latino          latino           1745377   \n",
       "342     wesley-safadao  wesley-safadao           1616936   \n",
       "\n",
       "                                       Musica2  Tokens1  Tokens2  PercTokens  \\\n",
       "141012   beber-e-paquerar-part-rai-saia-rodada       27       30        0.90   \n",
       "256695                           beber-deitado       35       34        1.03   \n",
       "224465                                 1973034       58       61        0.95   \n",
       "260542                            na-despedida       50       52        0.96   \n",
       "391772  me-leva-2017-ao-vivo-part-caio-giovani       89       40        2.22   \n",
       "111041                         mel-da-sua-boca       40       42        0.95   \n",
       "213559                       amor-de-estudante       61       60        1.02   \n",
       "255573                        festa-na-piscina       57       62        0.92   \n",
       "179610                        festa-na-piscina       57       62        0.92   \n",
       "342                                     920111       26       28        0.93   \n",
       "\n",
       "        Similaridade  \n",
       "141012         0.947  \n",
       "256695         0.946  \n",
       "224465         0.944  \n",
       "260542         0.944  \n",
       "391772         0.934  \n",
       "111041         0.931  \n",
       "213559         0.927  \n",
       "255573         0.916  \n",
       "179610         0.916  \n",
       "342            0.913  "
      ]
     },
     "execution_count": 167,
     "metadata": {},
     "output_type": "execute_result"
    }
   ],
   "source": [
    "df[(df['Similaridade'] < 0.95) & (df['Similaridade'] > 0.7)].head(10)"
   ]
  },
  {
   "cell_type": "code",
   "execution_count": 168,
   "id": "cfc8e40c",
   "metadata": {},
   "outputs": [
    {
     "data": {
      "text/html": [
       "<div>\n",
       "<style scoped>\n",
       "    .dataframe tbody tr th:only-of-type {\n",
       "        vertical-align: middle;\n",
       "    }\n",
       "\n",
       "    .dataframe tbody tr th {\n",
       "        vertical-align: top;\n",
       "    }\n",
       "\n",
       "    .dataframe thead th {\n",
       "        text-align: right;\n",
       "    }\n",
       "</style>\n",
       "<table border=\"1\" class=\"dataframe\">\n",
       "  <thead>\n",
       "    <tr style=\"text-align: right;\">\n",
       "      <th></th>\n",
       "      <th>Artista1</th>\n",
       "      <th>Artista2</th>\n",
       "      <th>Musica1</th>\n",
       "      <th>Musica2</th>\n",
       "      <th>Tokens1</th>\n",
       "      <th>Tokens2</th>\n",
       "      <th>PercTokens</th>\n",
       "      <th>Similaridade</th>\n",
       "    </tr>\n",
       "  </thead>\n",
       "  <tbody>\n",
       "    <tr>\n",
       "      <th>185729</th>\n",
       "      <td>latino</td>\n",
       "      <td>wesley-safadao</td>\n",
       "      <td>831550</td>\n",
       "      <td>hoje-e-dia</td>\n",
       "      <td>50</td>\n",
       "      <td>36</td>\n",
       "      <td>1.39</td>\n",
       "      <td>0.798</td>\n",
       "    </tr>\n",
       "    <tr>\n",
       "      <th>177118</th>\n",
       "      <td>latino</td>\n",
       "      <td>wesley-safadao</td>\n",
       "      <td>964806</td>\n",
       "      <td>hoje-e-dia</td>\n",
       "      <td>50</td>\n",
       "      <td>34</td>\n",
       "      <td>1.47</td>\n",
       "      <td>0.767</td>\n",
       "    </tr>\n",
       "    <tr>\n",
       "      <th>15540</th>\n",
       "      <td>wesley-safadao</td>\n",
       "      <td>wesley-safadao</td>\n",
       "      <td>1856104</td>\n",
       "      <td>1862510</td>\n",
       "      <td>57</td>\n",
       "      <td>74</td>\n",
       "      <td>0.77</td>\n",
       "      <td>0.764</td>\n",
       "    </tr>\n",
       "    <tr>\n",
       "      <th>426765</th>\n",
       "      <td>wesley-safadao</td>\n",
       "      <td>wesley-safadao</td>\n",
       "      <td>1210174</td>\n",
       "      <td>assim-voce-mata-o-papai</td>\n",
       "      <td>38</td>\n",
       "      <td>33</td>\n",
       "      <td>1.15</td>\n",
       "      <td>0.747</td>\n",
       "    </tr>\n",
       "    <tr>\n",
       "      <th>11722</th>\n",
       "      <td>wesley-safadao</td>\n",
       "      <td>wesley-safadao</td>\n",
       "      <td>1691494</td>\n",
       "      <td>pout-pourri-so-freud-explica-meu-amanhecer-ninguem-vai-separar</td>\n",
       "      <td>103</td>\n",
       "      <td>25</td>\n",
       "      <td>4.12</td>\n",
       "      <td>0.747</td>\n",
       "    </tr>\n",
       "    <tr>\n",
       "      <th>370704</th>\n",
       "      <td>wesley-safadao</td>\n",
       "      <td>wesley-safadao</td>\n",
       "      <td>escravo-do-amor-tentativas-em-vao-meu-amanhecer-menino-bobo-pot-pourri</td>\n",
       "      <td>tentativas-em-vao-part-marcia-fellipe</td>\n",
       "      <td>161</td>\n",
       "      <td>40</td>\n",
       "      <td>4.03</td>\n",
       "      <td>0.741</td>\n",
       "    </tr>\n",
       "    <tr>\n",
       "      <th>279964</th>\n",
       "      <td>wesley-safadao</td>\n",
       "      <td>wesley-safadao</td>\n",
       "      <td>1862473</td>\n",
       "      <td>abertura-garota-vip</td>\n",
       "      <td>53</td>\n",
       "      <td>74</td>\n",
       "      <td>0.72</td>\n",
       "      <td>0.738</td>\n",
       "    </tr>\n",
       "    <tr>\n",
       "      <th>341039</th>\n",
       "      <td>wesley-safadao</td>\n",
       "      <td>wesley-safadao</td>\n",
       "      <td>1756934</td>\n",
       "      <td>1757583</td>\n",
       "      <td>56</td>\n",
       "      <td>49</td>\n",
       "      <td>1.14</td>\n",
       "      <td>0.724</td>\n",
       "    </tr>\n",
       "    <tr>\n",
       "      <th>408130</th>\n",
       "      <td>wesley-safadao</td>\n",
       "      <td>wesley-safadao</td>\n",
       "      <td>1595953</td>\n",
       "      <td>escravo-do-amor-tentativas-em-vao-meu-amanhecer-menino-bobo-pot-pourri</td>\n",
       "      <td>39</td>\n",
       "      <td>161</td>\n",
       "      <td>0.24</td>\n",
       "      <td>0.722</td>\n",
       "    </tr>\n",
       "    <tr>\n",
       "      <th>390269</th>\n",
       "      <td>wesley-safadao</td>\n",
       "      <td>wesley-safadao</td>\n",
       "      <td>307314</td>\n",
       "      <td>358918</td>\n",
       "      <td>37</td>\n",
       "      <td>58</td>\n",
       "      <td>0.64</td>\n",
       "      <td>0.721</td>\n",
       "    </tr>\n",
       "  </tbody>\n",
       "</table>\n",
       "</div>"
      ],
      "text/plain": [
       "              Artista1        Artista2  \\\n",
       "185729          latino  wesley-safadao   \n",
       "177118          latino  wesley-safadao   \n",
       "15540   wesley-safadao  wesley-safadao   \n",
       "426765  wesley-safadao  wesley-safadao   \n",
       "11722   wesley-safadao  wesley-safadao   \n",
       "370704  wesley-safadao  wesley-safadao   \n",
       "279964  wesley-safadao  wesley-safadao   \n",
       "341039  wesley-safadao  wesley-safadao   \n",
       "408130  wesley-safadao  wesley-safadao   \n",
       "390269  wesley-safadao  wesley-safadao   \n",
       "\n",
       "                                                                       Musica1  \\\n",
       "185729                                                                  831550   \n",
       "177118                                                                  964806   \n",
       "15540                                                                  1856104   \n",
       "426765                                                                 1210174   \n",
       "11722                                                                  1691494   \n",
       "370704  escravo-do-amor-tentativas-em-vao-meu-amanhecer-menino-bobo-pot-pourri   \n",
       "279964                                                                 1862473   \n",
       "341039                                                                 1756934   \n",
       "408130                                                                 1595953   \n",
       "390269                                                                  307314   \n",
       "\n",
       "                                                                       Musica2  \\\n",
       "185729                                                              hoje-e-dia   \n",
       "177118                                                              hoje-e-dia   \n",
       "15540                                                                  1862510   \n",
       "426765                                                 assim-voce-mata-o-papai   \n",
       "11722           pout-pourri-so-freud-explica-meu-amanhecer-ninguem-vai-separar   \n",
       "370704                                   tentativas-em-vao-part-marcia-fellipe   \n",
       "279964                                                     abertura-garota-vip   \n",
       "341039                                                                 1757583   \n",
       "408130  escravo-do-amor-tentativas-em-vao-meu-amanhecer-menino-bobo-pot-pourri   \n",
       "390269                                                                  358918   \n",
       "\n",
       "        Tokens1  Tokens2  PercTokens  Similaridade  \n",
       "185729       50       36        1.39         0.798  \n",
       "177118       50       34        1.47         0.767  \n",
       "15540        57       74        0.77         0.764  \n",
       "426765       38       33        1.15         0.747  \n",
       "11722       103       25        4.12         0.747  \n",
       "370704      161       40        4.03         0.741  \n",
       "279964       53       74        0.72         0.738  \n",
       "341039       56       49        1.14         0.724  \n",
       "408130       39      161        0.24         0.722  \n",
       "390269       37       58        0.64         0.721  "
      ]
     },
     "execution_count": 168,
     "metadata": {},
     "output_type": "execute_result"
    }
   ],
   "source": [
    "df[(df['Similaridade'] < 0.8) & (df['Similaridade'] > 0.6)].head(10)"
   ]
  },
  {
   "cell_type": "markdown",
   "id": "61027abb",
   "metadata": {},
   "source": [
    "## Avaliação de exemplos"
   ]
  },
  {
   "cell_type": "code",
   "execution_count": 169,
   "id": "2fbbd06d",
   "metadata": {},
   "outputs": [],
   "source": [
    "idpar = 224465\n",
    "\n",
    "#idpar = 784 # lança perfume\n",
    "#idpar = 65078  # agora é pra valer\n",
    "#idpar = 674960 # agora só falta você"
   ]
  },
  {
   "cell_type": "code",
   "execution_count": 170,
   "id": "9493afa4",
   "metadata": {},
   "outputs": [
    {
     "data": {
      "text/plain": [
       "Artista1                latino\n",
       "Artista2        wesley-safadao\n",
       "Musica1                1956598\n",
       "Musica2                1973034\n",
       "Tokens1                     58\n",
       "Tokens2                     61\n",
       "PercTokens                0.95\n",
       "Similaridade             0.944\n",
       "Name: 224465, dtype: object"
      ]
     },
     "execution_count": 170,
     "metadata": {},
     "output_type": "execute_result"
    }
   ],
   "source": [
    "par = df.loc[idpar]\n",
    "musica1 = \"%s/%s/%s.txt\" % (dir_raiz, par[0], par[2])\n",
    "musica2 = \"%s/%s/%s.txt\" % (dir_raiz, par[1], par[3])\n",
    "par #, musica1, musica2"
   ]
  },
  {
   "cell_type": "code",
   "execution_count": 171,
   "id": "bd932169",
   "metadata": {},
   "outputs": [],
   "source": [
    "letra1 = sample_contents[sample_files.index(musica1)]\n",
    "letra2 = sample_contents[sample_files.index(musica2)]"
   ]
  },
  {
   "cell_type": "code",
   "execution_count": 172,
   "id": "b7a77e41",
   "metadata": {},
   "outputs": [
    {
     "data": {
      "text/plain": [
       "'Dança Kuduro (part. Daddy Kall)\\n\\nDança Kuduro! Vem Latino, Daddy Kall\\nA mão pra cima, cintura solta Da meia volta, dança Kuduro Não se canse agora começou a festa Mexe a cabeça e dança Kuduro\\nA mão pra cima, cintura solta Da meia volta, dança Kuduro Não se canse agora começou a festa Mexe a cabeça e dança Kuduro\\nQuem pode domar a força Que entra nas suas veias? Fica quente gruda na gente Ferve esquenta, incendeia\\nE quem pode parar isso aqui Descontrola sua cadeira Esse fogo que queima por dentro E lento tudo me tempera\\nA mão pra cima, cintura solta Da meia volta e sacode duro Não se canse agora começou a festa Mexe a cabeça e sacode duro\\nBalança que é uma loucura Morena vem do meu lado Ninguém vai ficar parado Quero ver mexer Kuduro\\nBalança que é uma loucura Morena vem do meu lado Ninguém vai ficar parado\\nOi, oi, oi, oi, oi, oi, oi? É para quebrar Kuduro, vamos dançar Kuduro Oi, oi, oi, oi, oi, oi, oi? Seja morena ou loira, vem balançar Kuduro Oi, oi, oi?\\nA mão pra cima, cintura solta Da meia volta, dança Kuduro Não se canse agora começou a festa Mexe a cabeça e dança Kuduro\\nA mão pra cima, cintura solta Da meia volta, dança Kuduro Não se canse agora começou a festa Mexe a cabeça e dança Kuduro\\nBalança que é uma loucura Morena vem do meu lado Ninguém vai ficar parado Quero ver mexer Kuduro\\nBalança que é uma loucura Morena vem do meu lado Ninguém vai ficar parado\\nOi, oi, oi, oi, oi, oi, oi? É para quebrar kuduro, vamos dançar kuduro Oi, oi, oi, oi, oi, oi, oi? Seja morena ou loira, vem balançar kuduro Oi, oi, oi? (Dança Kuduro)\\nA mão pra cima, cintura solta Da meia volta, dança Kuduro Não se canse agora começou a festa Mexe a cabeça e dança Kuduro\\nA mão pra cima, cintura solta Da meia volta, dança Kuduro Não se canse agora começou a festa Mexe a cabeça e dança Kuduro\\nKuduro! Kuduro!\\n\\n'"
      ]
     },
     "execution_count": 172,
     "metadata": {},
     "output_type": "execute_result"
    }
   ],
   "source": [
    "letra1"
   ]
  },
  {
   "cell_type": "code",
   "execution_count": 173,
   "id": "97e237da",
   "metadata": {},
   "outputs": [
    {
     "data": {
      "text/plain": [
       "'Dança Kuduro\\n\\nA mão pra cima, a cintura solta Da meia volta, dança Kuduro Não se canse agora começou a festa Mexe a cabeça e dança Kuduro (2x)\\nQuem pode domar a força Que entra nas suas veias? Fica quente gruda na gente Ferve esquenta, incendeia\\nE quem pode parar isso aqui Descontrola sua cadeira Esse fogo que queima por dentro E lento tudo me tempera\\nA mão pra cima, a cintura solta Da meia volta e sacode duro Não se canse agora começou a festa Mexe a cabeça e sacode duro\\nBalança que é uma loucura Morena vem ao meu lado Ninguém vai ficar parado Quero ver mexer kuduro\\nBalança que é uma loucura Morena vem ao meu lado Ninguém vai ficar parado\\nOi, oi, oi, oi, oi, oi, oi Vem para quebrar kuduro, vamos dançar kuduro Oi, oi, oi, oi, oi, oi, oi Seja morena ou loira, vem balançar kuduro Oi, oi, oi\\n\\n'"
      ]
     },
     "execution_count": 173,
     "metadata": {},
     "output_type": "execute_result"
    }
   ],
   "source": [
    "letra2"
   ]
  },
  {
   "cell_type": "markdown",
   "id": "2f21171d",
   "metadata": {},
   "source": [
    "## Avaliação de dois exemplos"
   ]
  },
  {
   "cell_type": "code",
   "execution_count": 174,
   "id": "7f78c820",
   "metadata": {
    "scrolled": true
   },
   "outputs": [],
   "source": [
    "#!pip install -U nltk"
   ]
  },
  {
   "cell_type": "code",
   "execution_count": 175,
   "id": "9093b2a3",
   "metadata": {},
   "outputs": [],
   "source": [
    "import nltk\n",
    "#nltk.download('punkt')\n",
    "#nltk.download('stopwords')"
   ]
  },
  {
   "cell_type": "code",
   "execution_count": 176,
   "id": "fbfa61d6",
   "metadata": {},
   "outputs": [],
   "source": [
    "import re\n",
    "from nltk.util import ngrams, pad_sequence, everygrams\n",
    "from nltk.tokenize import word_tokenize\n",
    "from nltk.lm import MLE, WittenBellInterpolated\n",
    "import numpy as np\n",
    "import plotly.graph_objects as go\n",
    "from scipy.ndimage import gaussian_filter"
   ]
  },
  {
   "cell_type": "code",
   "execution_count": 178,
   "id": "5ba6c5f7",
   "metadata": {},
   "outputs": [
    {
     "data": {
      "text/plain": [
       "['a',\n",
       " 'à',\n",
       " 'ao',\n",
       " 'aos',\n",
       " 'aquela',\n",
       " 'aquelas',\n",
       " 'aquele',\n",
       " 'aqueles',\n",
       " 'aquilo',\n",
       " 'as']"
      ]
     },
     "execution_count": 178,
     "metadata": {},
     "output_type": "execute_result"
    }
   ],
   "source": [
    "stopwords = nltk.corpus.stopwords.words('portuguese')\n",
    "stopwords[:10]"
   ]
  },
  {
   "cell_type": "code",
   "execution_count": 179,
   "id": "cf3314f2",
   "metadata": {},
   "outputs": [],
   "source": [
    "# Training data file\n",
    "train_data_file = musica1 #\"train.txt\"\n",
    "\n",
    "# read training dataz\n",
    "with open(train_data_file) as f:\n",
    "    train_text = f.read().lower()\n",
    "\n",
    "# apply preprocessing (remove text inside square and curly brackets and rem punc)\n",
    "train_text = re.sub(r\"\\[.*\\]|\\{.*\\}\", \"\", train_text)\n",
    "train_text = re.sub(r'[^\\w\\s]', \"\", train_text)\n",
    "train_text = re.sub(r'[\\n]', \" \", train_text)"
   ]
  },
  {
   "cell_type": "code",
   "execution_count": 180,
   "id": "3d5fe3ee",
   "metadata": {},
   "outputs": [
    {
     "data": {
      "text/plain": [
       "'dança kuduro part daddy kall  dança kuduro vem latino daddy kall a mão pra cima cintura solta da meia volta dança kuduro não se canse agora começou a festa mexe a cabeça e dança kuduro a mão pra cima cintura solta da meia volta dança kuduro não se canse agora começou a festa mexe a cabeça e dança kuduro quem pode domar a força que entra nas suas veias fica quente gruda na gente ferve esquenta incendeia e quem pode parar isso aqui descontrola sua cadeira esse fogo que queima por dentro e lento tudo me tempera a mão pra cima cintura solta da meia volta e sacode duro não se canse agora começou a festa mexe a cabeça e sacode duro balança que é uma loucura morena vem do meu lado ninguém vai ficar parado quero ver mexer kuduro balança que é uma loucura morena vem do meu lado ninguém vai ficar parado oi oi oi oi oi oi oi é para quebrar kuduro vamos dançar kuduro oi oi oi oi oi oi oi seja morena ou loira vem balançar kuduro oi oi oi a mão pra cima cintura solta da meia volta dança kuduro não se canse agora começou a festa mexe a cabeça e dança kuduro a mão pra cima cintura solta da meia volta dança kuduro não se canse agora começou a festa mexe a cabeça e dança kuduro balança que é uma loucura morena vem do meu lado ninguém vai ficar parado quero ver mexer kuduro balança que é uma loucura morena vem do meu lado ninguém vai ficar parado oi oi oi oi oi oi oi é para quebrar kuduro vamos dançar kuduro oi oi oi oi oi oi oi seja morena ou loira vem balançar kuduro oi oi oi dança kuduro a mão pra cima cintura solta da meia volta dança kuduro não se canse agora começou a festa mexe a cabeça e dança kuduro a mão pra cima cintura solta da meia volta dança kuduro não se canse agora começou a festa mexe a cabeça e dança kuduro kuduro kuduro  '"
      ]
     },
     "execution_count": 180,
     "metadata": {},
     "output_type": "execute_result"
    }
   ],
   "source": [
    "train_text"
   ]
  },
  {
   "cell_type": "code",
   "execution_count": 181,
   "id": "90ad9940",
   "metadata": {},
   "outputs": [
    {
     "name": "stdout",
     "output_type": "stream",
     "text": [
      "Number of ngrams: 1398\n",
      "<Vocabulary with cutoff=1 unk_label='<UNK>' and 85 items>\n"
     ]
    }
   ],
   "source": [
    "# set ngram number\n",
    "n = 4\n",
    "\n",
    "# pad the text and tokenize\n",
    "training_data = list(pad_sequence(word_tokenize(train_text, language=\"portuguese\"), n, \n",
    "                                  pad_left=True, \n",
    "                                  left_pad_symbol=\"<s>\"))\n",
    "\n",
    "# generate ngrams\n",
    "ngrams = list(everygrams(training_data, max_len=n))\n",
    "print(\"Number of ngrams:\", len(ngrams))\n",
    "\n",
    "# build ngram language models\n",
    "model = WittenBellInterpolated(n)\n",
    "model.fit([ngrams], vocabulary_text=training_data)\n",
    "print(model.vocab)"
   ]
  },
  {
   "cell_type": "code",
   "execution_count": 182,
   "id": "48b960e6",
   "metadata": {},
   "outputs": [],
   "source": [
    "# testing data file\n",
    "test_data_file = musica2 #\"test.txt\"\n",
    "\n",
    "# Read testing data\n",
    "with open(test_data_file) as f:\n",
    "    test_text = f.read().lower()\n",
    "    \n",
    "test_text = re.sub(r'[^\\w\\s]', \"\", test_text)\n",
    "test_text = re.sub(r'[\\n]', \" \", test_text)"
   ]
  },
  {
   "cell_type": "code",
   "execution_count": 183,
   "id": "5056fe56",
   "metadata": {},
   "outputs": [
    {
     "data": {
      "text/plain": [
       "'dança kuduro  a mão pra cima a cintura solta da meia volta dança kuduro não se canse agora começou a festa mexe a cabeça e dança kuduro 2x quem pode domar a força que entra nas suas veias fica quente gruda na gente ferve esquenta incendeia e quem pode parar isso aqui descontrola sua cadeira esse fogo que queima por dentro e lento tudo me tempera a mão pra cima a cintura solta da meia volta e sacode duro não se canse agora começou a festa mexe a cabeça e sacode duro balança que é uma loucura morena vem ao meu lado ninguém vai ficar parado quero ver mexer kuduro balança que é uma loucura morena vem ao meu lado ninguém vai ficar parado oi oi oi oi oi oi oi vem para quebrar kuduro vamos dançar kuduro oi oi oi oi oi oi oi seja morena ou loira vem balançar kuduro oi oi oi  '"
      ]
     },
     "execution_count": 183,
     "metadata": {},
     "output_type": "execute_result"
    }
   ],
   "source": [
    "test_text"
   ]
  },
  {
   "cell_type": "code",
   "execution_count": 184,
   "id": "c959237e",
   "metadata": {},
   "outputs": [
    {
     "name": "stdout",
     "output_type": "stream",
     "text": [
      "Length of test data: 158\n"
     ]
    }
   ],
   "source": [
    "# Tokenize and pad the text\n",
    "testing_data = list(pad_sequence(word_tokenize(test_text, language=\"portuguese\"), n, \n",
    "                                 pad_left=True,\n",
    "                                 left_pad_symbol=\"<s>\"))\n",
    "print(\"Length of test data:\", len(testing_data))"
   ]
  },
  {
   "cell_type": "code",
   "execution_count": 185,
   "id": "3c0168ea",
   "metadata": {},
   "outputs": [],
   "source": [
    "# assign scores\n",
    "scores = []\n",
    "for i, item in enumerate(testing_data[n-1:]):\n",
    "    s = model.score(item, testing_data[i:i+n-1])\n",
    "    scores.append(s)\n",
    "\n",
    "scores_np = np.array(scores)"
   ]
  },
  {
   "cell_type": "code",
   "execution_count": 186,
   "id": "ad02855f",
   "metadata": {},
   "outputs": [
    {
     "name": "stdout",
     "output_type": "stream",
     "text": [
      "Width, Height: 8 , 20\n"
     ]
    }
   ],
   "source": [
    "# set width and height\n",
    "width = 8\n",
    "height = np.ceil(len(testing_data)/width).astype(\"int32\")\n",
    "print(\"Width, Height:\", width, \",\", height)\n",
    "\n",
    "# copy scores to rectangular blank array\n",
    "a = np.zeros(width*height)\n",
    "a[:len(scores_np)] = scores_np\n",
    "diff = len(a) - len(scores_np)\n",
    "\n",
    "# apply gaussian smoothing for aesthetics\n",
    "a = gaussian_filter(a, sigma=1.0)\n",
    "\n",
    "# reshape to fit rectangle\n",
    "a = a.reshape(-1, width)\n",
    "\n",
    "# format labels\n",
    "labels = [\" \".join(testing_data[i:i+width]) for i in range(n-1, len(testing_data), width)]\n",
    "labels_individual = [x.split() for x in labels]\n",
    "labels_individual[-1] += [\"\"]*diff\n",
    "labels = [f\"{x:60.60}\" for x in labels]"
   ]
  },
  {
   "cell_type": "code",
   "execution_count": 187,
   "id": "9f3bac81",
   "metadata": {},
   "outputs": [
    {
     "data": {
      "application/vnd.plotly.v1+json": {
       "config": {
        "plotlyServerURL": "https://plot.ly"
       },
       "data": [
        {
         "colorscale": [
          [
           0,
           "rgb(255, 198, 196)"
          ],
          [
           0.16666666666666666,
           "rgb(244, 163, 168)"
          ],
          [
           0.3333333333333333,
           "rgb(227, 129, 145)"
          ],
          [
           0.5,
           "rgb(204, 96, 125)"
          ],
          [
           0.6666666666666666,
           "rgb(173, 70, 108)"
          ],
          [
           0.8333333333333334,
           "rgb(139, 48, 88)"
          ],
          [
           1,
           "rgb(103, 32, 68)"
          ]
         ],
         "customdata": [
          [
           "dança",
           "kuduro",
           "a",
           "mão",
           "pra",
           "cima",
           "a",
           "cintura"
          ],
          [
           "solta",
           "da",
           "meia",
           "volta",
           "dança",
           "kuduro",
           "não",
           "se"
          ],
          [
           "canse",
           "agora",
           "começou",
           "a",
           "festa",
           "mexe",
           "a",
           "cabeça"
          ],
          [
           "e",
           "dança",
           "kuduro",
           "2x",
           "quem",
           "pode",
           "domar",
           "a"
          ],
          [
           "força",
           "que",
           "entra",
           "nas",
           "suas",
           "veias",
           "fica",
           "quente"
          ],
          [
           "gruda",
           "na",
           "gente",
           "ferve",
           "esquenta",
           "incendeia",
           "e",
           "quem"
          ],
          [
           "pode",
           "parar",
           "isso",
           "aqui",
           "descontrola",
           "sua",
           "cadeira",
           "esse"
          ],
          [
           "fogo",
           "que",
           "queima",
           "por",
           "dentro",
           "e",
           "lento",
           "tudo"
          ],
          [
           "me",
           "tempera",
           "a",
           "mão",
           "pra",
           "cima",
           "a",
           "cintura"
          ],
          [
           "solta",
           "da",
           "meia",
           "volta",
           "e",
           "sacode",
           "duro",
           "não"
          ],
          [
           "se",
           "canse",
           "agora",
           "começou",
           "a",
           "festa",
           "mexe",
           "a"
          ],
          [
           "cabeça",
           "e",
           "sacode",
           "duro",
           "balança",
           "que",
           "é",
           "uma"
          ],
          [
           "loucura",
           "morena",
           "vem",
           "ao",
           "meu",
           "lado",
           "ninguém",
           "vai"
          ],
          [
           "ficar",
           "parado",
           "quero",
           "ver",
           "mexer",
           "kuduro",
           "balança",
           "que"
          ],
          [
           "é",
           "uma",
           "loucura",
           "morena",
           "vem",
           "ao",
           "meu",
           "lado"
          ],
          [
           "ninguém",
           "vai",
           "ficar",
           "parado",
           "oi",
           "oi",
           "oi",
           "oi"
          ],
          [
           "oi",
           "oi",
           "oi",
           "vem",
           "para",
           "quebrar",
           "kuduro",
           "vamos"
          ],
          [
           "dançar",
           "kuduro",
           "oi",
           "oi",
           "oi",
           "oi",
           "oi",
           "oi"
          ],
          [
           "oi",
           "seja",
           "morena",
           "ou",
           "loira",
           "vem",
           "balançar",
           "kuduro"
          ],
          [
           "oi",
           "oi",
           "oi",
           "",
           "",
           "",
           "",
           ""
          ]
         ],
         "dx": 1,
         "hovertemplate": "%{customdata} <br><b>Score:%{z:.3f}<extra></extra>",
         "type": "heatmap",
         "x0": 0,
         "y": [
          "dança kuduro a mão pra cima a cintura                       ",
          "solta da meia volta dança kuduro não se                     ",
          "canse agora começou a festa mexe a cabeça                   ",
          "e dança kuduro 2x quem pode domar a                         ",
          "força que entra nas suas veias fica quente                  ",
          "gruda na gente ferve esquenta incendeia e quem              ",
          "pode parar isso aqui descontrola sua cadeira esse           ",
          "fogo que queima por dentro e lento tudo                     ",
          "me tempera a mão pra cima a cintura                         ",
          "solta da meia volta e sacode duro não                       ",
          "se canse agora começou a festa mexe a                       ",
          "cabeça e sacode duro balança que é uma                      ",
          "loucura morena vem ao meu lado ninguém vai                  ",
          "ficar parado quero ver mexer kuduro balança que             ",
          "é uma loucura morena vem ao meu lado                        ",
          "ninguém vai ficar parado oi oi oi oi                        ",
          "oi oi oi vem para quebrar kuduro vamos                      ",
          "dançar kuduro oi oi oi oi oi oi                             ",
          "oi seja morena ou loira vem balançar kuduro                 ",
          "oi oi oi                                                    "
         ],
         "z": [
          [
           0.7381869434734718,
           0.6828691260356369,
           0.6164999425752582,
           0.7660806211970095,
           0.8848503952901712,
           0.6966780220965181,
           0.35231765343172,
           0.3297391582474769
          ],
          [
           0.6520665833841338,
           0.9047511338476204,
           0.9756878318430213,
           0.9600530981923636,
           0.9333438890285108,
           0.9394583530770806,
           0.9527242505309713,
           0.9745439096268187
          ],
          [
           0.9927706606715893,
           0.9975364695922162,
           0.9975656153042365,
           0.9958288192253288,
           0.9942961150706813,
           0.9952903209712822,
           0.9946060620090911,
           0.9854455676163507
          ],
          [
           0.9522114414668539,
           0.8749952269248567,
           0.6626244150631133,
           0.33066718892210417,
           0.24611482574817686,
           0.4146986306107056,
           0.570733825412405,
           0.713989237144457
          ],
          [
           0.7982015692963498,
           0.8226950816553877,
           0.8306766773177225,
           0.8513870772402548,
           0.8700929952654659,
           0.8749249621238062,
           0.8753430981585726,
           0.8753561253561253
          ],
          [
           0.8753561253561253,
           0.8753561253561253,
           0.875356554300435,
           0.8753559978539504,
           0.8750601491590535,
           0.8705097517687229,
           0.8521466540555829,
           0.8333955592188337
          ],
          [
           0.8209163285740113,
           0.8048972803104498,
           0.8317683309069319,
           0.8654036437781558,
           0.8745307434652214,
           0.8753312704164044,
           0.8753509896500613,
           0.8750208618688136
          ],
          [
           0.8705314396011243,
           0.8525131980091161,
           0.8369533028621319,
           0.8515960674420509,
           0.8650910157053582,
           0.8502411841262312,
           0.8333148165807427,
           0.8495922091375268
          ],
          [
           0.8697428990401007,
           0.8741328600336018,
           0.8712079135413707,
           0.8852519212299749,
           0.8871473696610933,
           0.6907130774544423,
           0.3514953916708676,
           0.3296983465746943
          ],
          [
           0.6519714033746153,
           0.9015910998851948,
           0.9366002536806768,
           0.7776949406821461,
           0.5996760416769807,
           0.6631143834833035,
           0.7426621124999127,
           0.7400375057152546
          ],
          [
           0.8462659578525631,
           0.9584495951161189,
           0.9926281448832568,
           0.9970835000559468,
           0.9958008168677328,
           0.9942953831418988,
           0.995197490126499,
           0.9915246925026038
          ],
          [
           0.9478141121017685,
           0.7835226256531467,
           0.6131146020749327,
           0.6317610247974507,
           0.7015629411492562,
           0.8234337467710469,
           0.9302430621959434,
           0.971054358767768
          ],
          [
           0.9812354285373955,
           0.9304352439174275,
           0.6934466598208805,
           0.34573768254262355,
           0.3125125566429331,
           0.6177950360435651,
           0.8761258385734836,
           0.9674431965030303
          ],
          [
           0.9617216482719659,
           0.8667306904081822,
           0.7797785123119702,
           0.848213371543596,
           0.9345426744830423,
           0.9477124966637426,
           0.9437585232716439,
           0.9593189569593451
          ],
          [
           0.9741992324058346,
           0.981519055822033,
           0.9829266204884084,
           0.9305614733100667,
           0.6934503392098479,
           0.34573768254262355,
           0.3125125566429331,
           0.6177950360435651
          ],
          [
           0.8761262904654312,
           0.9674590801009099,
           0.9619293823440745,
           0.8677220807394521,
           0.779731063557104,
           0.8295989955970757,
           0.8561253140886574,
           0.7937594742402909
          ],
          [
           0.7443981443715544,
           0.6943835532669496,
           0.5184085062284358,
           0.26198504806259604,
           0.2581211076246686,
           0.5402639251830168,
           0.7928990419861125,
           0.8998147165762322
          ],
          [
           0.9393972072131962,
           0.9471183275515564,
           0.9434725727349162,
           0.9416745392658983,
           0.8934365196264202,
           0.8034609351715127,
           0.7466233712585036,
           0.7034931347555933
          ],
          [
           0.5924302681459956,
           0.5430236141804944,
           0.7267838648228445,
           0.8962309105053043,
           0.9453971430839287,
           0.9480918787514715,
           0.9399465866822956,
           0.9384616774375454
          ],
          [
           0.9376189005626416,
           0.898324158977698,
           0.6720777987240776,
           0.2883573785522425,
           0.05606002179056017,
           0.004365916629326781,
           0.00012787056878607497,
           0
          ]
         ],
         "zmax": 1,
         "zmin": 0
        }
       ],
       "layout": {
        "font": {
         "family": "Courier New"
        },
        "height": 560,
        "template": {
         "data": {
          "bar": [
           {
            "error_x": {
             "color": "#2a3f5f"
            },
            "error_y": {
             "color": "#2a3f5f"
            },
            "marker": {
             "line": {
              "color": "#E5ECF6",
              "width": 0.5
             },
             "pattern": {
              "fillmode": "overlay",
              "size": 10,
              "solidity": 0.2
             }
            },
            "type": "bar"
           }
          ],
          "barpolar": [
           {
            "marker": {
             "line": {
              "color": "#E5ECF6",
              "width": 0.5
             },
             "pattern": {
              "fillmode": "overlay",
              "size": 10,
              "solidity": 0.2
             }
            },
            "type": "barpolar"
           }
          ],
          "carpet": [
           {
            "aaxis": {
             "endlinecolor": "#2a3f5f",
             "gridcolor": "white",
             "linecolor": "white",
             "minorgridcolor": "white",
             "startlinecolor": "#2a3f5f"
            },
            "baxis": {
             "endlinecolor": "#2a3f5f",
             "gridcolor": "white",
             "linecolor": "white",
             "minorgridcolor": "white",
             "startlinecolor": "#2a3f5f"
            },
            "type": "carpet"
           }
          ],
          "choropleth": [
           {
            "colorbar": {
             "outlinewidth": 0,
             "ticks": ""
            },
            "type": "choropleth"
           }
          ],
          "contour": [
           {
            "colorbar": {
             "outlinewidth": 0,
             "ticks": ""
            },
            "colorscale": [
             [
              0,
              "#0d0887"
             ],
             [
              0.1111111111111111,
              "#46039f"
             ],
             [
              0.2222222222222222,
              "#7201a8"
             ],
             [
              0.3333333333333333,
              "#9c179e"
             ],
             [
              0.4444444444444444,
              "#bd3786"
             ],
             [
              0.5555555555555556,
              "#d8576b"
             ],
             [
              0.6666666666666666,
              "#ed7953"
             ],
             [
              0.7777777777777778,
              "#fb9f3a"
             ],
             [
              0.8888888888888888,
              "#fdca26"
             ],
             [
              1,
              "#f0f921"
             ]
            ],
            "type": "contour"
           }
          ],
          "contourcarpet": [
           {
            "colorbar": {
             "outlinewidth": 0,
             "ticks": ""
            },
            "type": "contourcarpet"
           }
          ],
          "heatmap": [
           {
            "colorbar": {
             "outlinewidth": 0,
             "ticks": ""
            },
            "colorscale": [
             [
              0,
              "#0d0887"
             ],
             [
              0.1111111111111111,
              "#46039f"
             ],
             [
              0.2222222222222222,
              "#7201a8"
             ],
             [
              0.3333333333333333,
              "#9c179e"
             ],
             [
              0.4444444444444444,
              "#bd3786"
             ],
             [
              0.5555555555555556,
              "#d8576b"
             ],
             [
              0.6666666666666666,
              "#ed7953"
             ],
             [
              0.7777777777777778,
              "#fb9f3a"
             ],
             [
              0.8888888888888888,
              "#fdca26"
             ],
             [
              1,
              "#f0f921"
             ]
            ],
            "type": "heatmap"
           }
          ],
          "heatmapgl": [
           {
            "colorbar": {
             "outlinewidth": 0,
             "ticks": ""
            },
            "colorscale": [
             [
              0,
              "#0d0887"
             ],
             [
              0.1111111111111111,
              "#46039f"
             ],
             [
              0.2222222222222222,
              "#7201a8"
             ],
             [
              0.3333333333333333,
              "#9c179e"
             ],
             [
              0.4444444444444444,
              "#bd3786"
             ],
             [
              0.5555555555555556,
              "#d8576b"
             ],
             [
              0.6666666666666666,
              "#ed7953"
             ],
             [
              0.7777777777777778,
              "#fb9f3a"
             ],
             [
              0.8888888888888888,
              "#fdca26"
             ],
             [
              1,
              "#f0f921"
             ]
            ],
            "type": "heatmapgl"
           }
          ],
          "histogram": [
           {
            "marker": {
             "pattern": {
              "fillmode": "overlay",
              "size": 10,
              "solidity": 0.2
             }
            },
            "type": "histogram"
           }
          ],
          "histogram2d": [
           {
            "colorbar": {
             "outlinewidth": 0,
             "ticks": ""
            },
            "colorscale": [
             [
              0,
              "#0d0887"
             ],
             [
              0.1111111111111111,
              "#46039f"
             ],
             [
              0.2222222222222222,
              "#7201a8"
             ],
             [
              0.3333333333333333,
              "#9c179e"
             ],
             [
              0.4444444444444444,
              "#bd3786"
             ],
             [
              0.5555555555555556,
              "#d8576b"
             ],
             [
              0.6666666666666666,
              "#ed7953"
             ],
             [
              0.7777777777777778,
              "#fb9f3a"
             ],
             [
              0.8888888888888888,
              "#fdca26"
             ],
             [
              1,
              "#f0f921"
             ]
            ],
            "type": "histogram2d"
           }
          ],
          "histogram2dcontour": [
           {
            "colorbar": {
             "outlinewidth": 0,
             "ticks": ""
            },
            "colorscale": [
             [
              0,
              "#0d0887"
             ],
             [
              0.1111111111111111,
              "#46039f"
             ],
             [
              0.2222222222222222,
              "#7201a8"
             ],
             [
              0.3333333333333333,
              "#9c179e"
             ],
             [
              0.4444444444444444,
              "#bd3786"
             ],
             [
              0.5555555555555556,
              "#d8576b"
             ],
             [
              0.6666666666666666,
              "#ed7953"
             ],
             [
              0.7777777777777778,
              "#fb9f3a"
             ],
             [
              0.8888888888888888,
              "#fdca26"
             ],
             [
              1,
              "#f0f921"
             ]
            ],
            "type": "histogram2dcontour"
           }
          ],
          "mesh3d": [
           {
            "colorbar": {
             "outlinewidth": 0,
             "ticks": ""
            },
            "type": "mesh3d"
           }
          ],
          "parcoords": [
           {
            "line": {
             "colorbar": {
              "outlinewidth": 0,
              "ticks": ""
             }
            },
            "type": "parcoords"
           }
          ],
          "pie": [
           {
            "automargin": true,
            "type": "pie"
           }
          ],
          "scatter": [
           {
            "fillpattern": {
             "fillmode": "overlay",
             "size": 10,
             "solidity": 0.2
            },
            "type": "scatter"
           }
          ],
          "scatter3d": [
           {
            "line": {
             "colorbar": {
              "outlinewidth": 0,
              "ticks": ""
             }
            },
            "marker": {
             "colorbar": {
              "outlinewidth": 0,
              "ticks": ""
             }
            },
            "type": "scatter3d"
           }
          ],
          "scattercarpet": [
           {
            "marker": {
             "colorbar": {
              "outlinewidth": 0,
              "ticks": ""
             }
            },
            "type": "scattercarpet"
           }
          ],
          "scattergeo": [
           {
            "marker": {
             "colorbar": {
              "outlinewidth": 0,
              "ticks": ""
             }
            },
            "type": "scattergeo"
           }
          ],
          "scattergl": [
           {
            "marker": {
             "colorbar": {
              "outlinewidth": 0,
              "ticks": ""
             }
            },
            "type": "scattergl"
           }
          ],
          "scattermapbox": [
           {
            "marker": {
             "colorbar": {
              "outlinewidth": 0,
              "ticks": ""
             }
            },
            "type": "scattermapbox"
           }
          ],
          "scatterpolar": [
           {
            "marker": {
             "colorbar": {
              "outlinewidth": 0,
              "ticks": ""
             }
            },
            "type": "scatterpolar"
           }
          ],
          "scatterpolargl": [
           {
            "marker": {
             "colorbar": {
              "outlinewidth": 0,
              "ticks": ""
             }
            },
            "type": "scatterpolargl"
           }
          ],
          "scatterternary": [
           {
            "marker": {
             "colorbar": {
              "outlinewidth": 0,
              "ticks": ""
             }
            },
            "type": "scatterternary"
           }
          ],
          "surface": [
           {
            "colorbar": {
             "outlinewidth": 0,
             "ticks": ""
            },
            "colorscale": [
             [
              0,
              "#0d0887"
             ],
             [
              0.1111111111111111,
              "#46039f"
             ],
             [
              0.2222222222222222,
              "#7201a8"
             ],
             [
              0.3333333333333333,
              "#9c179e"
             ],
             [
              0.4444444444444444,
              "#bd3786"
             ],
             [
              0.5555555555555556,
              "#d8576b"
             ],
             [
              0.6666666666666666,
              "#ed7953"
             ],
             [
              0.7777777777777778,
              "#fb9f3a"
             ],
             [
              0.8888888888888888,
              "#fdca26"
             ],
             [
              1,
              "#f0f921"
             ]
            ],
            "type": "surface"
           }
          ],
          "table": [
           {
            "cells": {
             "fill": {
              "color": "#EBF0F8"
             },
             "line": {
              "color": "white"
             }
            },
            "header": {
             "fill": {
              "color": "#C8D4E3"
             },
             "line": {
              "color": "white"
             }
            },
            "type": "table"
           }
          ]
         },
         "layout": {
          "annotationdefaults": {
           "arrowcolor": "#2a3f5f",
           "arrowhead": 0,
           "arrowwidth": 1
          },
          "autotypenumbers": "strict",
          "coloraxis": {
           "colorbar": {
            "outlinewidth": 0,
            "ticks": ""
           }
          },
          "colorscale": {
           "diverging": [
            [
             0,
             "#8e0152"
            ],
            [
             0.1,
             "#c51b7d"
            ],
            [
             0.2,
             "#de77ae"
            ],
            [
             0.3,
             "#f1b6da"
            ],
            [
             0.4,
             "#fde0ef"
            ],
            [
             0.5,
             "#f7f7f7"
            ],
            [
             0.6,
             "#e6f5d0"
            ],
            [
             0.7,
             "#b8e186"
            ],
            [
             0.8,
             "#7fbc41"
            ],
            [
             0.9,
             "#4d9221"
            ],
            [
             1,
             "#276419"
            ]
           ],
           "sequential": [
            [
             0,
             "#0d0887"
            ],
            [
             0.1111111111111111,
             "#46039f"
            ],
            [
             0.2222222222222222,
             "#7201a8"
            ],
            [
             0.3333333333333333,
             "#9c179e"
            ],
            [
             0.4444444444444444,
             "#bd3786"
            ],
            [
             0.5555555555555556,
             "#d8576b"
            ],
            [
             0.6666666666666666,
             "#ed7953"
            ],
            [
             0.7777777777777778,
             "#fb9f3a"
            ],
            [
             0.8888888888888888,
             "#fdca26"
            ],
            [
             1,
             "#f0f921"
            ]
           ],
           "sequentialminus": [
            [
             0,
             "#0d0887"
            ],
            [
             0.1111111111111111,
             "#46039f"
            ],
            [
             0.2222222222222222,
             "#7201a8"
            ],
            [
             0.3333333333333333,
             "#9c179e"
            ],
            [
             0.4444444444444444,
             "#bd3786"
            ],
            [
             0.5555555555555556,
             "#d8576b"
            ],
            [
             0.6666666666666666,
             "#ed7953"
            ],
            [
             0.7777777777777778,
             "#fb9f3a"
            ],
            [
             0.8888888888888888,
             "#fdca26"
            ],
            [
             1,
             "#f0f921"
            ]
           ]
          },
          "colorway": [
           "#636efa",
           "#EF553B",
           "#00cc96",
           "#ab63fa",
           "#FFA15A",
           "#19d3f3",
           "#FF6692",
           "#B6E880",
           "#FF97FF",
           "#FECB52"
          ],
          "font": {
           "color": "#2a3f5f"
          },
          "geo": {
           "bgcolor": "white",
           "lakecolor": "white",
           "landcolor": "#E5ECF6",
           "showlakes": true,
           "showland": true,
           "subunitcolor": "white"
          },
          "hoverlabel": {
           "align": "left"
          },
          "hovermode": "closest",
          "mapbox": {
           "style": "light"
          },
          "paper_bgcolor": "white",
          "plot_bgcolor": "#E5ECF6",
          "polar": {
           "angularaxis": {
            "gridcolor": "white",
            "linecolor": "white",
            "ticks": ""
           },
           "bgcolor": "#E5ECF6",
           "radialaxis": {
            "gridcolor": "white",
            "linecolor": "white",
            "ticks": ""
           }
          },
          "scene": {
           "xaxis": {
            "backgroundcolor": "#E5ECF6",
            "gridcolor": "white",
            "gridwidth": 2,
            "linecolor": "white",
            "showbackground": true,
            "ticks": "",
            "zerolinecolor": "white"
           },
           "yaxis": {
            "backgroundcolor": "#E5ECF6",
            "gridcolor": "white",
            "gridwidth": 2,
            "linecolor": "white",
            "showbackground": true,
            "ticks": "",
            "zerolinecolor": "white"
           },
           "zaxis": {
            "backgroundcolor": "#E5ECF6",
            "gridcolor": "white",
            "gridwidth": 2,
            "linecolor": "white",
            "showbackground": true,
            "ticks": "",
            "zerolinecolor": "white"
           }
          },
          "shapedefaults": {
           "line": {
            "color": "#2a3f5f"
           }
          },
          "ternary": {
           "aaxis": {
            "gridcolor": "white",
            "linecolor": "white",
            "ticks": ""
           },
           "baxis": {
            "gridcolor": "white",
            "linecolor": "white",
            "ticks": ""
           },
           "bgcolor": "#E5ECF6",
           "caxis": {
            "gridcolor": "white",
            "linecolor": "white",
            "ticks": ""
           }
          },
          "title": {
           "x": 0.05
          },
          "xaxis": {
           "automargin": true,
           "gridcolor": "white",
           "linecolor": "white",
           "ticks": "",
           "title": {
            "standoff": 15
           },
           "zerolinecolor": "white",
           "zerolinewidth": 2
          },
          "yaxis": {
           "automargin": true,
           "gridcolor": "white",
           "linecolor": "white",
           "ticks": "",
           "title": {
            "standoff": 15
           },
           "zerolinecolor": "white",
           "zerolinewidth": 2
          }
         }
        },
        "width": 1000,
        "yaxis": {
         "autorange": "reversed"
        }
       }
      },
      "text/html": [
       "<div>                            <div id=\"ba60dfcb-ad12-47c4-9fb0-4a3d8d4b6e4d\" class=\"plotly-graph-div\" style=\"height:560px; width:1000px;\"></div>            <script type=\"text/javascript\">                require([\"plotly\"], function(Plotly) {                    window.PLOTLYENV=window.PLOTLYENV || {};                                    if (document.getElementById(\"ba60dfcb-ad12-47c4-9fb0-4a3d8d4b6e4d\")) {                    Plotly.newPlot(                        \"ba60dfcb-ad12-47c4-9fb0-4a3d8d4b6e4d\",                        [{\"colorscale\":[[0.0,\"rgb(255, 198, 196)\"],[0.16666666666666666,\"rgb(244, 163, 168)\"],[0.3333333333333333,\"rgb(227, 129, 145)\"],[0.5,\"rgb(204, 96, 125)\"],[0.6666666666666666,\"rgb(173, 70, 108)\"],[0.8333333333333334,\"rgb(139, 48, 88)\"],[1.0,\"rgb(103, 32, 68)\"]],\"customdata\":[[\"dan\\u00e7a\",\"kuduro\",\"a\",\"m\\u00e3o\",\"pra\",\"cima\",\"a\",\"cintura\"],[\"solta\",\"da\",\"meia\",\"volta\",\"dan\\u00e7a\",\"kuduro\",\"n\\u00e3o\",\"se\"],[\"canse\",\"agora\",\"come\\u00e7ou\",\"a\",\"festa\",\"mexe\",\"a\",\"cabe\\u00e7a\"],[\"e\",\"dan\\u00e7a\",\"kuduro\",\"2x\",\"quem\",\"pode\",\"domar\",\"a\"],[\"for\\u00e7a\",\"que\",\"entra\",\"nas\",\"suas\",\"veias\",\"fica\",\"quente\"],[\"gruda\",\"na\",\"gente\",\"ferve\",\"esquenta\",\"incendeia\",\"e\",\"quem\"],[\"pode\",\"parar\",\"isso\",\"aqui\",\"descontrola\",\"sua\",\"cadeira\",\"esse\"],[\"fogo\",\"que\",\"queima\",\"por\",\"dentro\",\"e\",\"lento\",\"tudo\"],[\"me\",\"tempera\",\"a\",\"m\\u00e3o\",\"pra\",\"cima\",\"a\",\"cintura\"],[\"solta\",\"da\",\"meia\",\"volta\",\"e\",\"sacode\",\"duro\",\"n\\u00e3o\"],[\"se\",\"canse\",\"agora\",\"come\\u00e7ou\",\"a\",\"festa\",\"mexe\",\"a\"],[\"cabe\\u00e7a\",\"e\",\"sacode\",\"duro\",\"balan\\u00e7a\",\"que\",\"\\u00e9\",\"uma\"],[\"loucura\",\"morena\",\"vem\",\"ao\",\"meu\",\"lado\",\"ningu\\u00e9m\",\"vai\"],[\"ficar\",\"parado\",\"quero\",\"ver\",\"mexer\",\"kuduro\",\"balan\\u00e7a\",\"que\"],[\"\\u00e9\",\"uma\",\"loucura\",\"morena\",\"vem\",\"ao\",\"meu\",\"lado\"],[\"ningu\\u00e9m\",\"vai\",\"ficar\",\"parado\",\"oi\",\"oi\",\"oi\",\"oi\"],[\"oi\",\"oi\",\"oi\",\"vem\",\"para\",\"quebrar\",\"kuduro\",\"vamos\"],[\"dan\\u00e7ar\",\"kuduro\",\"oi\",\"oi\",\"oi\",\"oi\",\"oi\",\"oi\"],[\"oi\",\"seja\",\"morena\",\"ou\",\"loira\",\"vem\",\"balan\\u00e7ar\",\"kuduro\"],[\"oi\",\"oi\",\"oi\",\"\",\"\",\"\",\"\",\"\"]],\"dx\":1,\"hovertemplate\":\"%{customdata} <br><b>Score:%{z:.3f}<extra></extra>\",\"x0\":0,\"y\":[\"dan\\u00e7a kuduro a m\\u00e3o pra cima a cintura                       \",\"solta da meia volta dan\\u00e7a kuduro n\\u00e3o se                     \",\"canse agora come\\u00e7ou a festa mexe a cabe\\u00e7a                   \",\"e dan\\u00e7a kuduro 2x quem pode domar a                         \",\"for\\u00e7a que entra nas suas veias fica quente                  \",\"gruda na gente ferve esquenta incendeia e quem              \",\"pode parar isso aqui descontrola sua cadeira esse           \",\"fogo que queima por dentro e lento tudo                     \",\"me tempera a m\\u00e3o pra cima a cintura                         \",\"solta da meia volta e sacode duro n\\u00e3o                       \",\"se canse agora come\\u00e7ou a festa mexe a                       \",\"cabe\\u00e7a e sacode duro balan\\u00e7a que \\u00e9 uma                      \",\"loucura morena vem ao meu lado ningu\\u00e9m vai                  \",\"ficar parado quero ver mexer kuduro balan\\u00e7a que             \",\"\\u00e9 uma loucura morena vem ao meu lado                        \",\"ningu\\u00e9m vai ficar parado oi oi oi oi                        \",\"oi oi oi vem para quebrar kuduro vamos                      \",\"dan\\u00e7ar kuduro oi oi oi oi oi oi                             \",\"oi seja morena ou loira vem balan\\u00e7ar kuduro                 \",\"oi oi oi                                                    \"],\"z\":[[0.7381869434734718,0.6828691260356369,0.6164999425752582,0.7660806211970095,0.8848503952901712,0.6966780220965181,0.35231765343172,0.3297391582474769],[0.6520665833841338,0.9047511338476204,0.9756878318430213,0.9600530981923636,0.9333438890285108,0.9394583530770806,0.9527242505309713,0.9745439096268187],[0.9927706606715893,0.9975364695922162,0.9975656153042365,0.9958288192253288,0.9942961150706813,0.9952903209712822,0.9946060620090911,0.9854455676163507],[0.9522114414668539,0.8749952269248567,0.6626244150631133,0.33066718892210417,0.24611482574817686,0.4146986306107056,0.570733825412405,0.713989237144457],[0.7982015692963498,0.8226950816553877,0.8306766773177225,0.8513870772402548,0.8700929952654659,0.8749249621238062,0.8753430981585726,0.8753561253561253],[0.8753561253561253,0.8753561253561253,0.875356554300435,0.8753559978539504,0.8750601491590535,0.8705097517687229,0.8521466540555829,0.8333955592188337],[0.8209163285740113,0.8048972803104498,0.8317683309069319,0.8654036437781558,0.8745307434652214,0.8753312704164044,0.8753509896500613,0.8750208618688136],[0.8705314396011243,0.8525131980091161,0.8369533028621319,0.8515960674420509,0.8650910157053582,0.8502411841262312,0.8333148165807427,0.8495922091375268],[0.8697428990401007,0.8741328600336018,0.8712079135413707,0.8852519212299749,0.8871473696610933,0.6907130774544423,0.3514953916708676,0.3296983465746943],[0.6519714033746153,0.9015910998851948,0.9366002536806768,0.7776949406821461,0.5996760416769807,0.6631143834833035,0.7426621124999127,0.7400375057152546],[0.8462659578525631,0.9584495951161189,0.9926281448832568,0.9970835000559468,0.9958008168677328,0.9942953831418988,0.995197490126499,0.9915246925026038],[0.9478141121017685,0.7835226256531467,0.6131146020749327,0.6317610247974507,0.7015629411492562,0.8234337467710469,0.9302430621959434,0.971054358767768],[0.9812354285373955,0.9304352439174275,0.6934466598208805,0.34573768254262355,0.3125125566429331,0.6177950360435651,0.8761258385734836,0.9674431965030303],[0.9617216482719659,0.8667306904081822,0.7797785123119702,0.848213371543596,0.9345426744830423,0.9477124966637426,0.9437585232716439,0.9593189569593451],[0.9741992324058346,0.981519055822033,0.9829266204884084,0.9305614733100667,0.6934503392098479,0.34573768254262355,0.3125125566429331,0.6177950360435651],[0.8761262904654312,0.9674590801009099,0.9619293823440745,0.8677220807394521,0.779731063557104,0.8295989955970757,0.8561253140886574,0.7937594742402909],[0.7443981443715544,0.6943835532669496,0.5184085062284358,0.26198504806259604,0.2581211076246686,0.5402639251830168,0.7928990419861125,0.8998147165762322],[0.9393972072131962,0.9471183275515564,0.9434725727349162,0.9416745392658983,0.8934365196264202,0.8034609351715127,0.7466233712585036,0.7034931347555933],[0.5924302681459956,0.5430236141804944,0.7267838648228445,0.8962309105053043,0.9453971430839287,0.9480918787514715,0.9399465866822956,0.9384616774375454],[0.9376189005626416,0.898324158977698,0.6720777987240776,0.2883573785522425,0.05606002179056017,0.004365916629326781,0.00012787056878607497,0.0]],\"zmax\":1,\"zmin\":0,\"type\":\"heatmap\"}],                        {\"template\":{\"data\":{\"histogram2dcontour\":[{\"type\":\"histogram2dcontour\",\"colorbar\":{\"outlinewidth\":0,\"ticks\":\"\"},\"colorscale\":[[0.0,\"#0d0887\"],[0.1111111111111111,\"#46039f\"],[0.2222222222222222,\"#7201a8\"],[0.3333333333333333,\"#9c179e\"],[0.4444444444444444,\"#bd3786\"],[0.5555555555555556,\"#d8576b\"],[0.6666666666666666,\"#ed7953\"],[0.7777777777777778,\"#fb9f3a\"],[0.8888888888888888,\"#fdca26\"],[1.0,\"#f0f921\"]]}],\"choropleth\":[{\"type\":\"choropleth\",\"colorbar\":{\"outlinewidth\":0,\"ticks\":\"\"}}],\"histogram2d\":[{\"type\":\"histogram2d\",\"colorbar\":{\"outlinewidth\":0,\"ticks\":\"\"},\"colorscale\":[[0.0,\"#0d0887\"],[0.1111111111111111,\"#46039f\"],[0.2222222222222222,\"#7201a8\"],[0.3333333333333333,\"#9c179e\"],[0.4444444444444444,\"#bd3786\"],[0.5555555555555556,\"#d8576b\"],[0.6666666666666666,\"#ed7953\"],[0.7777777777777778,\"#fb9f3a\"],[0.8888888888888888,\"#fdca26\"],[1.0,\"#f0f921\"]]}],\"heatmap\":[{\"type\":\"heatmap\",\"colorbar\":{\"outlinewidth\":0,\"ticks\":\"\"},\"colorscale\":[[0.0,\"#0d0887\"],[0.1111111111111111,\"#46039f\"],[0.2222222222222222,\"#7201a8\"],[0.3333333333333333,\"#9c179e\"],[0.4444444444444444,\"#bd3786\"],[0.5555555555555556,\"#d8576b\"],[0.6666666666666666,\"#ed7953\"],[0.7777777777777778,\"#fb9f3a\"],[0.8888888888888888,\"#fdca26\"],[1.0,\"#f0f921\"]]}],\"heatmapgl\":[{\"type\":\"heatmapgl\",\"colorbar\":{\"outlinewidth\":0,\"ticks\":\"\"},\"colorscale\":[[0.0,\"#0d0887\"],[0.1111111111111111,\"#46039f\"],[0.2222222222222222,\"#7201a8\"],[0.3333333333333333,\"#9c179e\"],[0.4444444444444444,\"#bd3786\"],[0.5555555555555556,\"#d8576b\"],[0.6666666666666666,\"#ed7953\"],[0.7777777777777778,\"#fb9f3a\"],[0.8888888888888888,\"#fdca26\"],[1.0,\"#f0f921\"]]}],\"contourcarpet\":[{\"type\":\"contourcarpet\",\"colorbar\":{\"outlinewidth\":0,\"ticks\":\"\"}}],\"contour\":[{\"type\":\"contour\",\"colorbar\":{\"outlinewidth\":0,\"ticks\":\"\"},\"colorscale\":[[0.0,\"#0d0887\"],[0.1111111111111111,\"#46039f\"],[0.2222222222222222,\"#7201a8\"],[0.3333333333333333,\"#9c179e\"],[0.4444444444444444,\"#bd3786\"],[0.5555555555555556,\"#d8576b\"],[0.6666666666666666,\"#ed7953\"],[0.7777777777777778,\"#fb9f3a\"],[0.8888888888888888,\"#fdca26\"],[1.0,\"#f0f921\"]]}],\"surface\":[{\"type\":\"surface\",\"colorbar\":{\"outlinewidth\":0,\"ticks\":\"\"},\"colorscale\":[[0.0,\"#0d0887\"],[0.1111111111111111,\"#46039f\"],[0.2222222222222222,\"#7201a8\"],[0.3333333333333333,\"#9c179e\"],[0.4444444444444444,\"#bd3786\"],[0.5555555555555556,\"#d8576b\"],[0.6666666666666666,\"#ed7953\"],[0.7777777777777778,\"#fb9f3a\"],[0.8888888888888888,\"#fdca26\"],[1.0,\"#f0f921\"]]}],\"mesh3d\":[{\"type\":\"mesh3d\",\"colorbar\":{\"outlinewidth\":0,\"ticks\":\"\"}}],\"scatter\":[{\"fillpattern\":{\"fillmode\":\"overlay\",\"size\":10,\"solidity\":0.2},\"type\":\"scatter\"}],\"parcoords\":[{\"type\":\"parcoords\",\"line\":{\"colorbar\":{\"outlinewidth\":0,\"ticks\":\"\"}}}],\"scatterpolargl\":[{\"type\":\"scatterpolargl\",\"marker\":{\"colorbar\":{\"outlinewidth\":0,\"ticks\":\"\"}}}],\"bar\":[{\"error_x\":{\"color\":\"#2a3f5f\"},\"error_y\":{\"color\":\"#2a3f5f\"},\"marker\":{\"line\":{\"color\":\"#E5ECF6\",\"width\":0.5},\"pattern\":{\"fillmode\":\"overlay\",\"size\":10,\"solidity\":0.2}},\"type\":\"bar\"}],\"scattergeo\":[{\"type\":\"scattergeo\",\"marker\":{\"colorbar\":{\"outlinewidth\":0,\"ticks\":\"\"}}}],\"scatterpolar\":[{\"type\":\"scatterpolar\",\"marker\":{\"colorbar\":{\"outlinewidth\":0,\"ticks\":\"\"}}}],\"histogram\":[{\"marker\":{\"pattern\":{\"fillmode\":\"overlay\",\"size\":10,\"solidity\":0.2}},\"type\":\"histogram\"}],\"scattergl\":[{\"type\":\"scattergl\",\"marker\":{\"colorbar\":{\"outlinewidth\":0,\"ticks\":\"\"}}}],\"scatter3d\":[{\"type\":\"scatter3d\",\"line\":{\"colorbar\":{\"outlinewidth\":0,\"ticks\":\"\"}},\"marker\":{\"colorbar\":{\"outlinewidth\":0,\"ticks\":\"\"}}}],\"scattermapbox\":[{\"type\":\"scattermapbox\",\"marker\":{\"colorbar\":{\"outlinewidth\":0,\"ticks\":\"\"}}}],\"scatterternary\":[{\"type\":\"scatterternary\",\"marker\":{\"colorbar\":{\"outlinewidth\":0,\"ticks\":\"\"}}}],\"scattercarpet\":[{\"type\":\"scattercarpet\",\"marker\":{\"colorbar\":{\"outlinewidth\":0,\"ticks\":\"\"}}}],\"carpet\":[{\"aaxis\":{\"endlinecolor\":\"#2a3f5f\",\"gridcolor\":\"white\",\"linecolor\":\"white\",\"minorgridcolor\":\"white\",\"startlinecolor\":\"#2a3f5f\"},\"baxis\":{\"endlinecolor\":\"#2a3f5f\",\"gridcolor\":\"white\",\"linecolor\":\"white\",\"minorgridcolor\":\"white\",\"startlinecolor\":\"#2a3f5f\"},\"type\":\"carpet\"}],\"table\":[{\"cells\":{\"fill\":{\"color\":\"#EBF0F8\"},\"line\":{\"color\":\"white\"}},\"header\":{\"fill\":{\"color\":\"#C8D4E3\"},\"line\":{\"color\":\"white\"}},\"type\":\"table\"}],\"barpolar\":[{\"marker\":{\"line\":{\"color\":\"#E5ECF6\",\"width\":0.5},\"pattern\":{\"fillmode\":\"overlay\",\"size\":10,\"solidity\":0.2}},\"type\":\"barpolar\"}],\"pie\":[{\"automargin\":true,\"type\":\"pie\"}]},\"layout\":{\"autotypenumbers\":\"strict\",\"colorway\":[\"#636efa\",\"#EF553B\",\"#00cc96\",\"#ab63fa\",\"#FFA15A\",\"#19d3f3\",\"#FF6692\",\"#B6E880\",\"#FF97FF\",\"#FECB52\"],\"font\":{\"color\":\"#2a3f5f\"},\"hovermode\":\"closest\",\"hoverlabel\":{\"align\":\"left\"},\"paper_bgcolor\":\"white\",\"plot_bgcolor\":\"#E5ECF6\",\"polar\":{\"bgcolor\":\"#E5ECF6\",\"angularaxis\":{\"gridcolor\":\"white\",\"linecolor\":\"white\",\"ticks\":\"\"},\"radialaxis\":{\"gridcolor\":\"white\",\"linecolor\":\"white\",\"ticks\":\"\"}},\"ternary\":{\"bgcolor\":\"#E5ECF6\",\"aaxis\":{\"gridcolor\":\"white\",\"linecolor\":\"white\",\"ticks\":\"\"},\"baxis\":{\"gridcolor\":\"white\",\"linecolor\":\"white\",\"ticks\":\"\"},\"caxis\":{\"gridcolor\":\"white\",\"linecolor\":\"white\",\"ticks\":\"\"}},\"coloraxis\":{\"colorbar\":{\"outlinewidth\":0,\"ticks\":\"\"}},\"colorscale\":{\"sequential\":[[0.0,\"#0d0887\"],[0.1111111111111111,\"#46039f\"],[0.2222222222222222,\"#7201a8\"],[0.3333333333333333,\"#9c179e\"],[0.4444444444444444,\"#bd3786\"],[0.5555555555555556,\"#d8576b\"],[0.6666666666666666,\"#ed7953\"],[0.7777777777777778,\"#fb9f3a\"],[0.8888888888888888,\"#fdca26\"],[1.0,\"#f0f921\"]],\"sequentialminus\":[[0.0,\"#0d0887\"],[0.1111111111111111,\"#46039f\"],[0.2222222222222222,\"#7201a8\"],[0.3333333333333333,\"#9c179e\"],[0.4444444444444444,\"#bd3786\"],[0.5555555555555556,\"#d8576b\"],[0.6666666666666666,\"#ed7953\"],[0.7777777777777778,\"#fb9f3a\"],[0.8888888888888888,\"#fdca26\"],[1.0,\"#f0f921\"]],\"diverging\":[[0,\"#8e0152\"],[0.1,\"#c51b7d\"],[0.2,\"#de77ae\"],[0.3,\"#f1b6da\"],[0.4,\"#fde0ef\"],[0.5,\"#f7f7f7\"],[0.6,\"#e6f5d0\"],[0.7,\"#b8e186\"],[0.8,\"#7fbc41\"],[0.9,\"#4d9221\"],[1,\"#276419\"]]},\"xaxis\":{\"gridcolor\":\"white\",\"linecolor\":\"white\",\"ticks\":\"\",\"title\":{\"standoff\":15},\"zerolinecolor\":\"white\",\"automargin\":true,\"zerolinewidth\":2},\"yaxis\":{\"gridcolor\":\"white\",\"linecolor\":\"white\",\"ticks\":\"\",\"title\":{\"standoff\":15},\"zerolinecolor\":\"white\",\"automargin\":true,\"zerolinewidth\":2},\"scene\":{\"xaxis\":{\"backgroundcolor\":\"#E5ECF6\",\"gridcolor\":\"white\",\"linecolor\":\"white\",\"showbackground\":true,\"ticks\":\"\",\"zerolinecolor\":\"white\",\"gridwidth\":2},\"yaxis\":{\"backgroundcolor\":\"#E5ECF6\",\"gridcolor\":\"white\",\"linecolor\":\"white\",\"showbackground\":true,\"ticks\":\"\",\"zerolinecolor\":\"white\",\"gridwidth\":2},\"zaxis\":{\"backgroundcolor\":\"#E5ECF6\",\"gridcolor\":\"white\",\"linecolor\":\"white\",\"showbackground\":true,\"ticks\":\"\",\"zerolinecolor\":\"white\",\"gridwidth\":2}},\"shapedefaults\":{\"line\":{\"color\":\"#2a3f5f\"}},\"annotationdefaults\":{\"arrowcolor\":\"#2a3f5f\",\"arrowhead\":0,\"arrowwidth\":1},\"geo\":{\"bgcolor\":\"white\",\"landcolor\":\"#E5ECF6\",\"subunitcolor\":\"white\",\"showland\":true,\"showlakes\":true,\"lakecolor\":\"white\"},\"title\":{\"x\":0.05},\"mapbox\":{\"style\":\"light\"}}},\"font\":{\"family\":\"Courier New\"},\"height\":560,\"width\":1000,\"yaxis\":{\"autorange\":\"reversed\"}},                        {\"responsive\": true}                    ).then(function(){\n",
       "                            \n",
       "var gd = document.getElementById('ba60dfcb-ad12-47c4-9fb0-4a3d8d4b6e4d');\n",
       "var x = new MutationObserver(function (mutations, observer) {{\n",
       "        var display = window.getComputedStyle(gd).display;\n",
       "        if (!display || display === 'none') {{\n",
       "            console.log([gd, 'removed!']);\n",
       "            Plotly.purge(gd);\n",
       "            observer.disconnect();\n",
       "        }}\n",
       "}});\n",
       "\n",
       "// Listen for the removal of the full notebook cells\n",
       "var notebookContainer = gd.closest('#notebook-container');\n",
       "if (notebookContainer) {{\n",
       "    x.observe(notebookContainer, {childList: true});\n",
       "}}\n",
       "\n",
       "// Listen for the clearing of the current output cell\n",
       "var outputEl = gd.closest('.output');\n",
       "if (outputEl) {{\n",
       "    x.observe(outputEl, {childList: true});\n",
       "}}\n",
       "\n",
       "                        })                };                });            </script>        </div>"
      ]
     },
     "metadata": {},
     "output_type": "display_data"
    }
   ],
   "source": [
    "# create heatmap\n",
    "from matplotlib import pyplot as plt\n",
    "fig = go.Figure(data=go.Heatmap(\n",
    "                z=a, x0=0, dx=1,\n",
    "                y=labels, zmin=0, zmax=1,\n",
    "                customdata=labels_individual,\n",
    "                hovertemplate='%{customdata} <br><b>Score:%{z:.3f}<extra></extra>',\n",
    "                colorscale=\"burg\"))\n",
    "fig.update_layout({\"height\":height*28, \"width\":1000, \"font\":{\"family\":\"Courier New\"}})\n",
    "fig['layout']['yaxis']['autorange'] = \"reversed\"\n",
    "fig.show()\n",
    "#fig.save_fig(\"heatmap.png\")"
   ]
  },
  {
   "cell_type": "code",
   "execution_count": null,
   "id": "43049e67",
   "metadata": {},
   "outputs": [],
   "source": []
  }
 ],
 "metadata": {
  "kernelspec": {
   "display_name": "Python 3 (ipykernel)",
   "language": "python",
   "name": "python3"
  },
  "language_info": {
   "codemirror_mode": {
    "name": "ipython",
    "version": 3
   },
   "file_extension": ".py",
   "mimetype": "text/x-python",
   "name": "python",
   "nbconvert_exporter": "python",
   "pygments_lexer": "ipython3",
   "version": "3.10.9"
  }
 },
 "nbformat": 4,
 "nbformat_minor": 5
}
